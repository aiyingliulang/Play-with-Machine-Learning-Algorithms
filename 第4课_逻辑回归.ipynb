{
  "nbformat": 4,
  "nbformat_minor": 0,
  "metadata": {
    "colab": {
      "provenance": [],
      "authorship_tag": "ABX9TyP8IVGtTQgpjC0DhRo2utE0",
      "include_colab_link": true
    },
    "kernelspec": {
      "name": "python3",
      "display_name": "Python 3"
    },
    "language_info": {
      "name": "python"
    }
  },
  "cells": [
    {
      "cell_type": "markdown",
      "metadata": {
        "id": "view-in-github",
        "colab_type": "text"
      },
      "source": [
        "<a href=\"https://colab.research.google.com/github/aiyingliulang/Play-with-Machine-Learning-Algorithms/blob/master/%E7%AC%AC4%E8%AF%BE_%E9%80%BB%E8%BE%91%E5%9B%9E%E5%BD%92.ipynb\" target=\"_parent\"><img src=\"https://colab.research.google.com/assets/colab-badge.svg\" alt=\"Open In Colab\"/></a>"
      ]
    },
    {
      "cell_type": "code",
      "execution_count": null,
      "metadata": {
        "colab": {
          "base_uri": "https://localhost:8080/",
          "height": 206
        },
        "id": "cRHeXuLal0zm",
        "outputId": "ec3f7cc3-023e-488d-e40e-f123835fdf39"
      },
      "outputs": [
        {
          "output_type": "execute_result",
          "data": {
            "text/plain": [
              "   age  sex  cp  trestbps  chol  fbs  restecg  thalach  exang  oldpeak  slope  \\\n",
              "0   63    1   3       145   233    1        0      150      0      2.3      0   \n",
              "1   37    1   2       130   250    0        1      187      0      3.5      0   \n",
              "2   41    0   1       130   204    0        0      172      0      1.4      2   \n",
              "3   56    1   1       120   236    0        1      178      0      0.8      2   \n",
              "4   57    0   0       120   354    0        1      163      1      0.6      2   \n",
              "\n",
              "   ca  thal  target  \n",
              "0   0     1       1  \n",
              "1   0     2       1  \n",
              "2   0     2       1  \n",
              "3   0     2       1  \n",
              "4   0     2       1  "
            ],
            "text/html": [
              "\n",
              "  <div id=\"df-db523905-7ca3-4080-b72c-9d13fabd325c\">\n",
              "    <div class=\"colab-df-container\">\n",
              "      <div>\n",
              "<style scoped>\n",
              "    .dataframe tbody tr th:only-of-type {\n",
              "        vertical-align: middle;\n",
              "    }\n",
              "\n",
              "    .dataframe tbody tr th {\n",
              "        vertical-align: top;\n",
              "    }\n",
              "\n",
              "    .dataframe thead th {\n",
              "        text-align: right;\n",
              "    }\n",
              "</style>\n",
              "<table border=\"1\" class=\"dataframe\">\n",
              "  <thead>\n",
              "    <tr style=\"text-align: right;\">\n",
              "      <th></th>\n",
              "      <th>age</th>\n",
              "      <th>sex</th>\n",
              "      <th>cp</th>\n",
              "      <th>trestbps</th>\n",
              "      <th>chol</th>\n",
              "      <th>fbs</th>\n",
              "      <th>restecg</th>\n",
              "      <th>thalach</th>\n",
              "      <th>exang</th>\n",
              "      <th>oldpeak</th>\n",
              "      <th>slope</th>\n",
              "      <th>ca</th>\n",
              "      <th>thal</th>\n",
              "      <th>target</th>\n",
              "    </tr>\n",
              "  </thead>\n",
              "  <tbody>\n",
              "    <tr>\n",
              "      <th>0</th>\n",
              "      <td>63</td>\n",
              "      <td>1</td>\n",
              "      <td>3</td>\n",
              "      <td>145</td>\n",
              "      <td>233</td>\n",
              "      <td>1</td>\n",
              "      <td>0</td>\n",
              "      <td>150</td>\n",
              "      <td>0</td>\n",
              "      <td>2.3</td>\n",
              "      <td>0</td>\n",
              "      <td>0</td>\n",
              "      <td>1</td>\n",
              "      <td>1</td>\n",
              "    </tr>\n",
              "    <tr>\n",
              "      <th>1</th>\n",
              "      <td>37</td>\n",
              "      <td>1</td>\n",
              "      <td>2</td>\n",
              "      <td>130</td>\n",
              "      <td>250</td>\n",
              "      <td>0</td>\n",
              "      <td>1</td>\n",
              "      <td>187</td>\n",
              "      <td>0</td>\n",
              "      <td>3.5</td>\n",
              "      <td>0</td>\n",
              "      <td>0</td>\n",
              "      <td>2</td>\n",
              "      <td>1</td>\n",
              "    </tr>\n",
              "    <tr>\n",
              "      <th>2</th>\n",
              "      <td>41</td>\n",
              "      <td>0</td>\n",
              "      <td>1</td>\n",
              "      <td>130</td>\n",
              "      <td>204</td>\n",
              "      <td>0</td>\n",
              "      <td>0</td>\n",
              "      <td>172</td>\n",
              "      <td>0</td>\n",
              "      <td>1.4</td>\n",
              "      <td>2</td>\n",
              "      <td>0</td>\n",
              "      <td>2</td>\n",
              "      <td>1</td>\n",
              "    </tr>\n",
              "    <tr>\n",
              "      <th>3</th>\n",
              "      <td>56</td>\n",
              "      <td>1</td>\n",
              "      <td>1</td>\n",
              "      <td>120</td>\n",
              "      <td>236</td>\n",
              "      <td>0</td>\n",
              "      <td>1</td>\n",
              "      <td>178</td>\n",
              "      <td>0</td>\n",
              "      <td>0.8</td>\n",
              "      <td>2</td>\n",
              "      <td>0</td>\n",
              "      <td>2</td>\n",
              "      <td>1</td>\n",
              "    </tr>\n",
              "    <tr>\n",
              "      <th>4</th>\n",
              "      <td>57</td>\n",
              "      <td>0</td>\n",
              "      <td>0</td>\n",
              "      <td>120</td>\n",
              "      <td>354</td>\n",
              "      <td>0</td>\n",
              "      <td>1</td>\n",
              "      <td>163</td>\n",
              "      <td>1</td>\n",
              "      <td>0.6</td>\n",
              "      <td>2</td>\n",
              "      <td>0</td>\n",
              "      <td>2</td>\n",
              "      <td>1</td>\n",
              "    </tr>\n",
              "  </tbody>\n",
              "</table>\n",
              "</div>\n",
              "      <button class=\"colab-df-convert\" onclick=\"convertToInteractive('df-db523905-7ca3-4080-b72c-9d13fabd325c')\"\n",
              "              title=\"Convert this dataframe to an interactive table.\"\n",
              "              style=\"display:none;\">\n",
              "        \n",
              "  <svg xmlns=\"http://www.w3.org/2000/svg\" height=\"24px\"viewBox=\"0 0 24 24\"\n",
              "       width=\"24px\">\n",
              "    <path d=\"M0 0h24v24H0V0z\" fill=\"none\"/>\n",
              "    <path d=\"M18.56 5.44l.94 2.06.94-2.06 2.06-.94-2.06-.94-.94-2.06-.94 2.06-2.06.94zm-11 1L8.5 8.5l.94-2.06 2.06-.94-2.06-.94L8.5 2.5l-.94 2.06-2.06.94zm10 10l.94 2.06.94-2.06 2.06-.94-2.06-.94-.94-2.06-.94 2.06-2.06.94z\"/><path d=\"M17.41 7.96l-1.37-1.37c-.4-.4-.92-.59-1.43-.59-.52 0-1.04.2-1.43.59L10.3 9.45l-7.72 7.72c-.78.78-.78 2.05 0 2.83L4 21.41c.39.39.9.59 1.41.59.51 0 1.02-.2 1.41-.59l7.78-7.78 2.81-2.81c.8-.78.8-2.07 0-2.86zM5.41 20L4 18.59l7.72-7.72 1.47 1.35L5.41 20z\"/>\n",
              "  </svg>\n",
              "      </button>\n",
              "      \n",
              "  <style>\n",
              "    .colab-df-container {\n",
              "      display:flex;\n",
              "      flex-wrap:wrap;\n",
              "      gap: 12px;\n",
              "    }\n",
              "\n",
              "    .colab-df-convert {\n",
              "      background-color: #E8F0FE;\n",
              "      border: none;\n",
              "      border-radius: 50%;\n",
              "      cursor: pointer;\n",
              "      display: none;\n",
              "      fill: #1967D2;\n",
              "      height: 32px;\n",
              "      padding: 0 0 0 0;\n",
              "      width: 32px;\n",
              "    }\n",
              "\n",
              "    .colab-df-convert:hover {\n",
              "      background-color: #E2EBFA;\n",
              "      box-shadow: 0px 1px 2px rgba(60, 64, 67, 0.3), 0px 1px 3px 1px rgba(60, 64, 67, 0.15);\n",
              "      fill: #174EA6;\n",
              "    }\n",
              "\n",
              "    [theme=dark] .colab-df-convert {\n",
              "      background-color: #3B4455;\n",
              "      fill: #D2E3FC;\n",
              "    }\n",
              "\n",
              "    [theme=dark] .colab-df-convert:hover {\n",
              "      background-color: #434B5C;\n",
              "      box-shadow: 0px 1px 3px 1px rgba(0, 0, 0, 0.15);\n",
              "      filter: drop-shadow(0px 1px 2px rgba(0, 0, 0, 0.3));\n",
              "      fill: #FFFFFF;\n",
              "    }\n",
              "  </style>\n",
              "\n",
              "      <script>\n",
              "        const buttonEl =\n",
              "          document.querySelector('#df-db523905-7ca3-4080-b72c-9d13fabd325c button.colab-df-convert');\n",
              "        buttonEl.style.display =\n",
              "          google.colab.kernel.accessAllowed ? 'block' : 'none';\n",
              "\n",
              "        async function convertToInteractive(key) {\n",
              "          const element = document.querySelector('#df-db523905-7ca3-4080-b72c-9d13fabd325c');\n",
              "          const dataTable =\n",
              "            await google.colab.kernel.invokeFunction('convertToInteractive',\n",
              "                                                     [key], {});\n",
              "          if (!dataTable) return;\n",
              "\n",
              "          const docLinkHtml = 'Like what you see? Visit the ' +\n",
              "            '<a target=\"_blank\" href=https://colab.research.google.com/notebooks/data_table.ipynb>data table notebook</a>'\n",
              "            + ' to learn more about interactive tables.';\n",
              "          element.innerHTML = '';\n",
              "          dataTable['output_type'] = 'display_data';\n",
              "          await google.colab.output.renderOutput(dataTable, element);\n",
              "          const docLink = document.createElement('div');\n",
              "          docLink.innerHTML = docLinkHtml;\n",
              "          element.appendChild(docLink);\n",
              "        }\n",
              "      </script>\n",
              "    </div>\n",
              "  </div>\n",
              "  "
            ]
          },
          "metadata": {},
          "execution_count": 3
        }
      ],
      "source": [
        "import numpy as np\n",
        "import pandas as pd\n",
        "df_heart = pd.read_csv('heart.csv')\n",
        "df_heart.head()"
      ]
    },
    {
      "cell_type": "code",
      "source": [
        "df_heart.target.value_counts()"
      ],
      "metadata": {
        "colab": {
          "base_uri": "https://localhost:8080/"
        },
        "id": "KRwl8wW1md2g",
        "outputId": "16f38932-13ff-4eb1-b843-a8ed90053782"
      },
      "execution_count": null,
      "outputs": [
        {
          "output_type": "execute_result",
          "data": {
            "text/plain": [
              "1    165\n",
              "0    138\n",
              "Name: target, dtype: int64"
            ]
          },
          "metadata": {},
          "execution_count": 4
        }
      ]
    },
    {
      "cell_type": "code",
      "source": [
        "import matplotlib.pyplot as plt\n",
        "plt.scatter(x=df_heart.age[df_heart.target==1],\n",
        "            y=df_heart.thalach[df_heart.target==1],c='r')\n",
        "plt.scatter(x=df_heart.age[df_heart.target==0],\n",
        "             y=df_heart.thalach[df_heart.target==0],c='b',marker='^')\n",
        "plt.legend(['Disease','No Disease'])\n",
        "plt.xlabel('Age')\n",
        "plt.ylabel('Heart Rate')\n",
        "plt.show()"
      ],
      "metadata": {
        "colab": {
          "base_uri": "https://localhost:8080/",
          "height": 279
        },
        "id": "7eaQzTx7my4t",
        "outputId": "f8ca19bc-49b4-4fc2-e4fe-533a7e2d0eda"
      },
      "execution_count": null,
      "outputs": [
        {
          "output_type": "display_data",
          "data": {
            "text/plain": [
              "<Figure size 432x288 with 1 Axes>"
            ],
            "image/png": "[encoded data removed]"
          },
          "metadata": {
            "needs_background": "light"
          }
        }
      ]
    },
    {
      "cell_type": "code",
      "source": [
        "X = df_heart.drop(['target'],axis=1)\n",
        "y = df_heart.target.values\n",
        "y = y.reshape(-1,1)\n",
        "print('张量X的形状：', X.shape)\n",
        "print('张量y的形状：', y.shape)"
      ],
      "metadata": {
        "colab": {
          "base_uri": "https://localhost:8080/"
        },
        "id": "pMnKZlAWosdX",
        "outputId": "68f911da-8106-4286-832e-73fa1a5cc9cb"
      },
      "execution_count": null,
      "outputs": [
        {
          "output_type": "stream",
          "name": "stdout",
          "text": [
            "张量X的形状： (303, 13)\n",
            "张量y的形状： (303, 1)\n"
          ]
        }
      ]
    },
    {
      "cell_type": "code",
      "source": [
        "from sklearn.model_selection import train_test_split\n",
        "X_train, X_test, y_train, y_test = train_test_split(X, y, test_size=0.2)"
      ],
      "metadata": {
        "id": "gzCO7e8Xpzfk"
      },
      "execution_count": null,
      "outputs": []
    },
    {
      "cell_type": "code",
      "source": [
        "from sklearn.preprocessing import MinMaxScaler\n",
        "scaler = MinMaxScaler()\n",
        "X_train = scaler.fit_transform(X_train)\n",
        "X_test = scaler.transform(X_test)"
      ],
      "metadata": {
        "id": "g35pfThSqQce"
      },
      "execution_count": null,
      "outputs": []
    },
    {
      "cell_type": "code",
      "source": [
        "def sigmoid(z):\n",
        "    y_hat = 1 / (1 + np.exp(-z))\n",
        "    return y_hat"
      ],
      "metadata": {
        "id": "OkLSNKOUrHHe"
      },
      "execution_count": null,
      "outputs": []
    },
    {
      "cell_type": "code",
      "source": [
        "def loss_function(X, y, w, b):\n",
        "    y_hat = sigmoid(np.dot(X, w) + b)\n",
        "    loss = -((y*np.log(y_hat) + (1-y)*np.log(1-y_hat)))\n",
        "    cost = np.sum(loss) / X.shape[0]\n",
        "    return cost"
      ],
      "metadata": {
        "id": "T3IHHPc9rfvi"
      },
      "execution_count": null,
      "outputs": []
    },
    {
      "cell_type": "code",
      "source": [
        "def gradient_descent(X, y, w, b, lr, iter):\n",
        "    l_history = np.zeros(iter)\n",
        "    w_history = np.zeros((iter, w.shape[0], w.shape[1]))\n",
        "    b_history = np.zeros(iter)\n",
        "    for i in range(iter):\n",
        "        y_hat = sigmoid(np.dot(X, w) + b)\n",
        "        loss = -((y*np.log(y_hat) + (1-y)*np.log(1-y_hat)))\n",
        "        derivative_w = np.dot(X.T, ((y_hat - y))) / X.shape[0]\n",
        "        derivative_b = np.sum(y_hat - y) / X.shape[0]\n",
        "        w -= lr * derivative_w\n",
        "        b -= lr * derivative_b\n",
        "        l_history[i] = loss_function(X, y, w, b)\n",
        "        print('轮次', i+1 ,'当前轮训练损失：', l_history[i])\n",
        "        w_history[i] = w\n",
        "        b_history[i] = b\n",
        "    return l_history, w_history, b_history"
      ],
      "metadata": {
        "id": "VCq1oKlatWFJ"
      },
      "execution_count": null,
      "outputs": []
    },
    {
      "cell_type": "code",
      "source": [
        "# loss_history, weight_history, bias_history = gradient_descent(X_train, y_train, weight, bias, alpha, iterations)"
      ],
      "metadata": {
        "id": "407JMc-SwlUi"
      },
      "execution_count": null,
      "outputs": []
    },
    {
      "cell_type": "code",
      "source": [
        "def predict(X, w, b):\n",
        "    z = np.dot(X, w) +b\n",
        "    y_hat = sigmoid(z)\n",
        "    y_pred = np.zeros((y_hat.shape[0], 1))\n",
        "    for i in range(y_hat.shape[0]):\n",
        "        if y_hat[i, 0] < 0.5:\n",
        "           y_pred[i, 0] = 0\n",
        "        else:\n",
        "            y_pred[i, 0] = 1\n",
        "    return y_pred"
      ],
      "metadata": {
        "id": "gn9gM707yI7Z"
      },
      "execution_count": null,
      "outputs": []
    },
    {
      "cell_type": "code",
      "source": [
        "def logistic_regression(X, y, w, b, lr, iter):\n",
        "    l_history, w_history, b_history = gradient_descent(X, y, w, b, lr, iter)\n",
        "    print('训练最终损失：', l_history[-1])\n",
        "    y_pred = predict(X, w_history[-1], b_history[-1])\n",
        "    training_acc = 100 - np.mean(np.abs(y_pred - y_train)) * 100\n",
        "    print('逻辑回归准确率：{:.2f}%'.format(training_acc))\n",
        "    return l_history, w_history, b_history"
      ],
      "metadata": {
        "id": "Qv9LiJzQzxM8"
      },
      "execution_count": null,
      "outputs": []
    },
    {
      "cell_type": "code",
      "source": [
        "dimension = X.shape[1]\n",
        "weight = np.full((dimension, 1), 0.1)\n",
        "bias = 0\n",
        "alpha = 1\n",
        "iterations = 500"
      ],
      "metadata": {
        "id": "hWh0ItF_2ENp"
      },
      "execution_count": null,
      "outputs": []
    },
    {
      "cell_type": "code",
      "source": [
        "loss_history, weight_history, bias_history = logistic_regression(X_train, y_train, weight, bias, alpha, iterations)"
      ],
      "metadata": {
        "colab": {
          "base_uri": "https://localhost:8080/"
        },
        "id": "NZBExjnf3MVb",
        "outputId": "a8a178ff-afd3-4abe-a5ff-593d780a6ca2"
      },
      "execution_count": null,
      "outputs": [
        {
          "output_type": "stream",
          "name": "stdout",
          "text": [
            "轮次 1 当前轮训练损失： 0.6661603731025124\n",
            "轮次 2 当前轮训练损失： 0.6384019260493835\n",
            "轮次 3 当前轮训练损失： 0.6143635994762816\n",
            "轮次 4 当前轮训练损失： 0.593394825558307\n",
            "轮次 5 当前轮训练损失： 0.575033975702304\n",
            "轮次 6 当前轮训练损失： 0.558887950464144\n",
            "轮次 7 当前轮训练损失： 0.5446247741625077\n",
            "轮次 8 当前轮训练损失： 0.5319656478079663\n",
            "轮次 9 当前轮训练损失： 0.5206770991361436\n",
            "轮次 10 当前轮训练损失： 0.5105637763055058\n",
            "轮次 11 当前轮训练损失： 0.5014621163413852\n",
            "轮次 12 当前轮训练损失： 0.4932349335729244\n",
            "轮次 13 当前轮训练损失： 0.4857668756387074\n",
            "轮次 14 当前轮训练损失： 0.4789606509003452\n",
            "轮次 15 当前轮训练损失： 0.47273391806285764\n",
            "轮次 16 当前轮训练损失： 0.4670167318525711\n",
            "轮次 17 当前轮训练损失： 0.46174944909639715\n",
            "轮次 18 当前轮训练损失： 0.4568810126383824\n",
            "轮次 19 当前轮训练损失： 0.4523675436875151\n",
            "轮次 20 当前轮训练损失： 0.4481711852206466\n",
            "轮次 21 当前轮训练损失： 0.4442591495123525\n",
            "轮次 22 当前轮训练损失： 0.4406029316628344\n",
            "轮次 23 当前轮训练损失： 0.43717765826373584\n",
            "轮次 24 当前轮训练损失： 0.43396154627230127\n",
            "轮次 25 当前轮训练损失： 0.4309354519650733\n",
            "轮次 26 当前轮训练损失： 0.42808249370992607\n",
            "轮次 27 当前轮训练损失： 0.42538773540280467\n",
            "轮次 28 当前轮训练损失： 0.42283791990967057\n",
            "轮次 29 当前轮训练损失： 0.4204212438559771\n",
            "轮次 30 当前轮训练损失： 0.41812716671402844\n",
            "轮次 31 当前轮训练损失： 0.4159462484321762\n",
            "轮次 32 当前轮训练损失： 0.41387001089243025\n",
            "轮次 33 当前轮训练损失： 0.4118908193252976\n",
            "轮次 34 当前轮训练损失： 0.41000178049271996\n",
            "轮次 35 当前轮训练损失： 0.40819665500378316\n",
            "轮次 36 当前轮训练损失： 0.40646978157881053\n",
            "轮次 37 当前轮训练损失： 0.40481601144566837\n",
            "轮次 38 当前轮训练损失： 0.4032306513536715\n",
            "轮次 39 当前轮训练损失： 0.4017094139381704\n",
            "轮次 40 当前轮训练损失： 0.40024837437294686\n",
            "轮次 41 当前轮训练损失： 0.3988439324161389\n",
            "轮次 42 当前轮训练损失： 0.39749277909510994\n",
            "轮次 43 当前轮训练损失： 0.39619186739177414\n",
            "轮次 44 当前轮训练损失： 0.39493838638663786\n",
            "轮次 45 当前轮训练损失： 0.3937297384006789\n",
            "轮次 46 当前轮训练损失： 0.3925635187419429\n",
            "轮次 47 当前轮训练损失： 0.39143749772068126\n",
            "轮次 48 当前轮训练损失： 0.390349604644826\n",
            "轮次 49 当前轮训练损失： 0.38929791354812504\n",
            "轮次 50 当前轮训练损失： 0.38828063043757777\n",
            "轮次 51 当前轮训练损失： 0.38729608187595116\n",
            "轮次 52 当前轮训练损失： 0.3863427047399524\n",
            "轮次 53 当前轮训练损失： 0.3854190370157869\n",
            "轮次 54 当前轮训练损失： 0.38452370951191883\n",
            "轮次 55 当前轮训练损失： 0.3836554383843547\n",
            "轮次 56 当前轮训练损失： 0.3828130183830811\n",
            "轮次 57 当前轮训练损失： 0.3819953167397521\n",
            "轮次 58 当前轮训练损失： 0.3812012676266047\n",
            "轮次 59 当前轮训练损失： 0.38042986712512766\n",
            "轮次 60 当前轮训练损失： 0.37968016865041093\n",
            "轮次 61 当前轮训练损失： 0.3789512787835235\n",
            "轮次 62 当前轮训练损失： 0.37824235346985685\n",
            "轮次 63 当前轮训练损失： 0.37755259454623225\n",
            "轮次 64 当前轮训练损失： 0.37688124656382055\n",
            "轮次 65 当前轮训练损失： 0.376227593877635\n",
            "轮次 66 当前轮训练损失： 0.37559095797660824\n",
            "轮次 67 当前轮训练损失： 0.374970695031122\n",
            "轮次 68 当前轮训练损失： 0.37436619363736207\n",
            "轮次 69 当前轮训练损失： 0.37377687274008076\n",
            "轮次 70 当前轮训练损失： 0.37320217971729924\n",
            "轮次 71 当前轮训练损失： 0.37264158861219393\n",
            "轮次 72 当前轮训练损失： 0.3720945984989396\n",
            "轮次 73 当前轮训练损失： 0.37156073197062645\n",
            "轮次 74 当前轮训练损失： 0.3710395337385622\n",
            "轮次 75 当前轮训练损失： 0.3705305693333343\n",
            "轮次 76 当前轮训练损失： 0.37003342389895383\n",
            "轮次 77 当前轮训练损失： 0.36954770107223966\n",
            "轮次 78 当前轮训练损失： 0.36907302194035924\n",
            "轮次 79 当前轮训练损失： 0.3686090240701081\n",
            "轮次 80 当前轮训练损失： 0.36815536060311466\n",
            "轮次 81 当前轮训练损失： 0.36771169941169307\n",
            "轮次 82 当前轮训练损失： 0.36727772231054817\n",
            "轮次 83 当前轮训练损失： 0.36685312431997374\n",
            "轮次 84 当前轮训练损失： 0.3664376129765703\n",
            "轮次 85 当前轮训练损失： 0.36603090768786384\n",
            "轮次 86 当前轮训练损失： 0.3656327391275191\n",
            "轮次 87 当前轮训练损失： 0.3652428486681295\n",
            "轮次 88 当前轮训练损失： 0.3648609878488208\n",
            "轮次 89 当前轮训练损失： 0.3644869178751422\n",
            "轮次 90 当前轮训练损失： 0.36412040914892474\n",
            "轮次 91 当前轮训练损失： 0.3637612408259836\n",
            "轮次 92 当前轮训练损失： 0.36340920039970986\n",
            "轮次 93 当前轮训练损失： 0.36306408330875795\n",
            "轮次 94 当前轮训练损失： 0.36272569256717685\n",
            "轮次 95 当前轮训练损失： 0.3623938384154643\n",
            "轮次 96 当前轮训练损失： 0.36206833799114185\n",
            "轮次 97 当前轮训练损失： 0.3617490150175566\n",
            "轮次 98 当前轮训练损失： 0.3614356995097163\n",
            "轮次 99 当前轮训练损失： 0.36112822749605183\n",
            "轮次 100 当前轮训练损失： 0.3608264407550862\n",
            "轮次 101 当前轮训练损失： 0.36053018656606517\n",
            "轮次 102 当前轮训练损失： 0.3602393174726717\n",
            "轮次 103 当前轮训练损失： 0.3599536910590119\n",
            "轮次 104 当前轮训练损失： 0.3596731697371187\n",
            "轮次 105 当前轮训练损失： 0.35939762054527086\n",
            "轮次 106 当前轮训练损失： 0.35912691495647897\n",
            "轮次 107 当前轮训练损失： 0.3588609286965288\n",
            "轮次 108 当前轮训练损失： 0.3585995415710207\n",
            "轮次 109 当前轮训练损失： 0.35834263730087734\n",
            "轮次 110 当前轮训练损失： 0.3580901033658325\n",
            "轮次 111 当前轮训练损失： 0.3578418308554404\n",
            "轮次 112 当前轮训练损失： 0.35759771432718074\n",
            "轮次 113 当前轮训练损失： 0.35735765167126143\n",
            "轮次 114 当前轮训练损失： 0.35712154398174295\n",
            "轮次 115 当前轮训练损失： 0.3568892954336399\n",
            "轮次 116 当前轮训练损失： 0.35666081316566856\n",
            "轮次 117 当前轮训练损失： 0.356436007168339\n",
            "轮次 118 当前轮训练损失： 0.35621479017710184\n",
            "轮次 119 当前轮训练损失： 0.35599707757028265\n",
            "轮次 120 当前轮训练损失： 0.3557827872715501\n",
            "轮次 121 当前轮训练损失： 0.3555718396566833\n",
            "轮次 122 当前轮训练损失： 0.3553641574644126\n",
            "轮次 123 当前轮训练损失： 0.35515966571112756\n",
            "轮次 124 当前轮训练损失： 0.3549582916092538\n",
            "轮次 125 当前轮训练损失： 0.35475996448911296\n",
            "轮次 126 当前轮训练损失： 0.3545646157240927\n",
            "轮次 127 当前轮训练损失： 0.3543721786589613\n",
            "轮次 128 当前轮训练损失： 0.3541825885411736\n",
            "轮次 129 当前轮训练损失： 0.353995782455019\n",
            "轮次 130 当前轮训练损失： 0.3538116992584778\n",
            "轮次 131 当前轮训练损失： 0.35363027952265164\n",
            "轮次 132 当前轮训练损失： 0.3534514654736493\n",
            "轮次 133 当前轮训练损失： 0.35327520093680786\n",
            "轮次 134 当前轮训练损失： 0.3531014312831414\n",
            "轮次 135 当前轮训练损失： 0.35293010337791403\n",
            "轮次 136 当前轮训练损失： 0.3527611655312368\n",
            "轮次 137 当前轮训练损失： 0.35259456745059786\n",
            "轮次 138 当前轮训练损失： 0.3524302601952358\n",
            "轮次 139 当前轮训练损失： 0.352268196132274\n",
            "轮次 140 当前轮训练损失： 0.35210832889453564\n",
            "轮次 141 当前轮训练损失： 0.35195061333996647\n",
            "轮次 142 当前轮训练损失： 0.35179500551259096\n",
            "轮次 143 当前轮训练损失： 0.35164146260493795\n",
            "轮次 144 当前轮训练损失： 0.3514899429218675\n",
            "轮次 145 当前轮训练损失： 0.351340405845743\n",
            "轮次 146 当前轮训练损失： 0.3511928118028854\n",
            "轮次 147 当前轮训练损失： 0.35104712223125856\n",
            "轮次 148 当前轮训练损失： 0.35090329954933186\n",
            "轮次 149 当前轮训练损失： 0.35076130712606945\n",
            "轮次 150 当前轮训练损失： 0.3506211092520006\n",
            "轮次 151 当前轮训练损失： 0.35048267111132525\n",
            "轮次 152 当前轮训练损失： 0.35034595875501046\n",
            "轮次 153 当前轮训练损失： 0.35021093907484063\n",
            "轮次 154 当前轮训练损失： 0.3500775797783771\n",
            "轮次 155 当前轮训练损失： 0.3499458493647956\n",
            "轮次 156 当前轮训练损失： 0.3498157171015623\n",
            "轮次 157 当前轮训练损失： 0.3496871530019161\n",
            "轮次 158 当前轮训练损失： 0.34956012780312495\n",
            "轮次 159 当前轮训练损失： 0.34943461294548545\n",
            "轮次 160 当前轮训练损失： 0.3493105805520361\n",
            "轮次 161 当前轮训练损失： 0.34918800340895634\n",
            "轮次 162 当前轮训练损失： 0.3490668549466246\n",
            "轮次 163 当前轮训练损失： 0.3489471092213103\n",
            "轮次 164 当前轮训练损失： 0.34882874089747384\n",
            "轮次 165 当前轮训练损失： 0.34871172523065364\n",
            "轮次 166 当前轮训练损失： 0.3485960380509153\n",
            "轮次 167 当前轮训练损失： 0.3484816557468432\n",
            "轮次 168 当前轮训练损失： 0.34836855525005345\n",
            "轮次 169 当前轮训练损失： 0.3482567140202093\n",
            "轮次 170 当前轮训练损失： 0.34814611003051876\n",
            "轮次 171 当前轮训练损失： 0.3480367217536987\n",
            "轮次 172 当前轮训练损失： 0.3479285281483859\n",
            "轮次 173 当前轮训练损失： 0.3478215086459805\n",
            "轮次 174 当前轮训练损失： 0.3477156431379046\n",
            "轮次 175 当前轮训练损失： 0.3476109119632625\n",
            "轮次 176 当前轮训练损失： 0.3475072958968866\n",
            "轮次 177 当前轮训练损失： 0.3474047761377556\n",
            "轮次 178 当前轮训练损失： 0.347303334297772\n",
            "轮次 179 当前轮训练损失： 0.3472029523908857\n",
            "轮次 180 当前轮训练损失： 0.34710361282255164\n",
            "轮次 181 当前轮训练损失： 0.3470052983795096\n",
            "轮次 182 当前轮训练损失： 0.3469079922198749\n",
            "轮次 183 当前轮训练损失： 0.346811677863529\n",
            "轮次 184 当前轮训练损失： 0.34671633918280026\n",
            "轮次 185 当前轮训练损失： 0.3466219603934236\n",
            "轮次 186 当前轮训练损失： 0.3465285260457702\n",
            "轮次 187 当前轮训练损失： 0.34643602101633886\n",
            "轮次 188 当前轮训练损失： 0.3463444304994976\n",
            "轮次 189 当前轮训练损失： 0.34625373999947073\n",
            "轮次 190 当前轮训练损失： 0.3461639353225584\n",
            "轮次 191 当前轮训练损失： 0.3460750025695856\n",
            "轮次 192 当前轮训练损失： 0.34598692812857\n",
            "轮次 193 当前轮训练损失： 0.345899698667601\n",
            "轮次 194 当前轮训练损失： 0.3458133011279258\n",
            "轮次 195 当前轮训练损失： 0.3457277227172326\n",
            "轮次 196 当前轮训练损失： 0.3456429509031267\n",
            "轮次 197 当前轮训练损失： 0.3455589734067912\n",
            "轮次 198 当前轮训练损失： 0.3454757781968282\n",
            "轮次 199 当前轮训练损失： 0.34539335348327355\n",
            "轮次 200 当前轮训练损失： 0.34531168771177984\n",
            "轮次 201 当前轮训练损失： 0.3452307695579617\n",
            "轮次 202 当前轮训练损失： 0.34515058792189934\n",
            "轮次 203 当前轮训练损失： 0.3450711319227944\n",
            "轮次 204 当前轮训练损失： 0.3449923908937732\n",
            "轮次 205 当前轮训练损失： 0.3449143543768335\n",
            "轮次 206 当前轮训练损失： 0.3448370121179295\n",
            "轮次 207 当前轮训练损失： 0.34476035406219124\n",
            "轮次 208 当前轮训练损失： 0.34468437034927424\n",
            "轮次 209 当前轮训练损失： 0.3446090513088341\n",
            "轮次 210 当前轮训练损失： 0.3445343874561246\n",
            "轮次 211 当前轮训练损失： 0.3444603694877127\n",
            "轮次 212 当前轮训练损失： 0.3443869882773099\n",
            "轮次 213 当前轮训练损失： 0.34431423487171325\n",
            "轮次 214 当前轮训练损失： 0.3442421004868548\n",
            "轮次 215 当前轮训练损失： 0.34417057650395566\n",
            "轮次 216 当前轮训练损失： 0.34409965446578117\n",
            "轮次 217 当前轮训练损失： 0.34402932607299497\n",
            "轮次 218 当前轮训练损失： 0.3439595831806076\n",
            "轮次 219 当前轮训练损失： 0.3438904177945181\n",
            "轮次 220 当前轮训练损失： 0.343821822068146\n",
            "轮次 221 当前轮训练损失： 0.3437537882991489\n",
            "轮次 222 当前轮训练损失： 0.3436863089262263\n",
            "轮次 223 当前轮训练损失： 0.3436193765260043\n",
            "轮次 224 当前轮训练损失： 0.3435529838100008\n",
            "轮次 225 当前轮训练损失： 0.3434871236216674\n",
            "轮次 226 当前轮训练损失： 0.34342178893350656\n",
            "轮次 227 当前轮训练损失： 0.34335697284426225\n",
            "轮次 228 当前轮训练损失： 0.3432926685761807\n",
            "轮次 229 当前轮训练损失： 0.3432288694723403\n",
            "轮次 230 当前轮训练损失： 0.3431655689940486\n",
            "轮次 231 当前轮训练损失： 0.343102760718303\n",
            "轮次 232 当前轮训练损失： 0.3430404383353167\n",
            "轮次 233 当前轮训练损失： 0.3429785956461038\n",
            "轮次 234 当前轮训练损失： 0.3429172265601251\n",
            "轮次 235 当前轮训练损失： 0.34285632509299147\n",
            "轮次 236 当前轮训练损失： 0.3427958853642242\n",
            "轮次 237 当前轮训练损失： 0.34273590159506834\n",
            "轮次 238 当前轮训练损失： 0.3426763681063613\n",
            "轮次 239 当前轮训练损失： 0.34261727931645153\n",
            "轮次 240 当前轮训练损失： 0.34255862973916845\n",
            "轮次 241 当前轮训练损失： 0.3425004139818414\n",
            "轮次 242 当前轮训练损失： 0.34244262674336484\n",
            "轮次 243 当前轮训练损失： 0.3423852628123113\n",
            "轮次 244 当前轮训练损失： 0.34232831706508865\n",
            "轮次 245 当前轮训练损失： 0.3422717844641415\n",
            "轮次 246 当前轮训练损失： 0.34221566005619447\n",
            "轮次 247 当前轮训练损失： 0.3421599389705378\n",
            "轮次 248 当前轮训练损失： 0.34210461641735285\n",
            "轮次 249 当前轮训练损失： 0.342049687686077\n",
            "轮次 250 当前轮训练损失： 0.3419951481438067\n",
            "轮次 251 当前轮训练损失： 0.34194099323373744\n",
            "轮次 252 当前轮训练损失： 0.34188721847364106\n",
            "轮次 253 当前轮训练损失： 0.3418338194543767\n",
            "轮次 254 当前轮训练损失： 0.34178079183843724\n",
            "轮次 255 当前轮训练损失： 0.34172813135852903\n",
            "轮次 256 当前轮训练损失： 0.34167583381618366\n",
            "轮次 257 当前轮训练损失： 0.3416238950804021\n",
            "轮次 258 当前轮训练损失： 0.34157231108632935\n",
            "轮次 259 当前轮训练损失： 0.3415210778339592\n",
            "轮次 260 当前轮训练损失： 0.34147019138686885\n",
            "轮次 261 当前轮训练损失： 0.34141964787098056\n",
            "轮次 262 当前轮训练损失： 0.3413694434733536\n",
            "轮次 263 当前轮训练损失： 0.3413195744410011\n",
            "轮次 264 当前轮训练损失： 0.3412700370797342\n",
            "轮次 265 当前轮训练损失： 0.34122082775303236\n",
            "轮次 266 当前轮训练损失： 0.34117194288093816\n",
            "轮次 267 当前轮训练损失： 0.34112337893897676\n",
            "轮次 268 当前轮训练损失： 0.3410751324570993\n",
            "轮次 269 当前轮训练损失： 0.3410272000186497\n",
            "轮次 270 当前轮训练损失： 0.3409795782593537\n",
            "轮次 271 当前轮训练损失： 0.34093226386633074\n",
            "轮次 272 当前轮训练损失： 0.3408852535771266\n",
            "轮次 273 当前轮训练损失： 0.3408385441787677\n",
            "轮次 274 当前轮训练损失： 0.3407921325068355\n",
            "轮次 275 当前轮训练损失： 0.3407460154445614\n",
            "轮次 276 当前轮训练损失： 0.3407001899219408\n",
            "轮次 277 当前轮训练损失： 0.34065465291486613\n",
            "轮次 278 当前轮训练损失： 0.3406094014442788\n",
            "轮次 279 当前轮训练损失： 0.3405644325753391\n",
            "轮次 280 当前轮训练损失： 0.3405197434166138\n",
            "轮次 281 当前轮训练损失： 0.3404753311192812\n",
            "轮次 282 当前轮训练损失： 0.34043119287635265\n",
            "轮次 283 当前轮训练损失： 0.3403873259219106\n",
            "轮次 284 当前轮训练损失： 0.3403437275303635\n",
            "轮次 285 当前轮训练损失： 0.3403003950157152\n",
            "轮次 286 当前轮训练损失： 0.3402573257308501\n",
            "轮次 287 当前轮训练损失： 0.34021451706683375\n",
            "轮次 288 当前轮训练损失： 0.34017196645222736\n",
            "轮次 289 当前轮训练损失： 0.3401296713524168\n",
            "轮次 290 当前轮训练损失： 0.34008762926895547\n",
            "轮次 291 当前轮训练损失： 0.3400458377389207\n",
            "轮次 292 当前轮训练损失： 0.34000429433428414\n",
            "轮次 293 当前轮训练损失： 0.3399629966612933\n",
            "轮次 294 当前轮训练损失： 0.3399219423598681\n",
            "轮次 295 当前轮训练损失： 0.3398811291030076\n",
            "轮次 296 当前轮训练损失： 0.33984055459621065\n",
            "轮次 297 当前轮训练损失： 0.3398002165769066\n",
            "轮次 298 当前轮训练损失： 0.3397601128138993\n",
            "轮次 299 当前轮训练损失： 0.3397202411068208\n",
            "轮次 300 当前轮训练损失： 0.3396805992855968\n",
            "轮次 301 当前轮训练损失： 0.3396411852099233\n",
            "轮次 302 当前轮训练损失： 0.3396019967687526\n",
            "轮次 303 当前轮训练损失： 0.3395630318797906\n",
            "轮次 304 当前轮训练损失： 0.33952428848900346\n",
            "轮次 305 当前轮训练损失： 0.33948576457013496\n",
            "轮次 306 当前轮训练损失： 0.3394474581242317\n",
            "轮次 307 当前轮训练损失： 0.33940936717918024\n",
            "轮次 308 当前轮训练损失： 0.33937148978925075\n",
            "轮次 309 当前轮训练损失： 0.3393338240346517\n",
            "轮次 310 当前轮训练损失： 0.33929636802109214\n",
            "轮次 311 当前轮训练损失： 0.33925911987935287\n",
            "轮次 312 当前轮训练损失： 0.3392220777648661\n",
            "轮次 313 当前轮训练损失： 0.33918523985730314\n",
            "轮次 314 当前轮训练损失： 0.3391486043601706\n",
            "轮次 315 当前轮训练损失： 0.3391121695004129\n",
            "轮次 316 当前轮训练损失： 0.33907593352802495\n",
            "轮次 317 当前轮训练损失： 0.33903989471567\n",
            "轮次 318 当前轮训练损失： 0.3390040513583059\n",
            "轮次 319 当前轮训练损失： 0.33896840177281895\n",
            "轮次 320 当前轮训练损失： 0.3389329442976634\n",
            "轮次 321 当前轮训练损失： 0.33889767729250925\n",
            "轮次 322 当前轮训练损失： 0.33886259913789596\n",
            "轮次 323 当前轮训练损失： 0.3388277082348928\n",
            "轮次 324 当前轮训练损失： 0.33879300300476606\n",
            "轮次 325 当前轮训练损失： 0.33875848188865204\n",
            "轮次 326 当前轮训练损失： 0.3387241433472367\n",
            "轮次 327 当前轮训练损失： 0.3386899858604408\n",
            "轮次 328 当前轮训练损失： 0.33865600792711137\n",
            "轮次 329 当前轮训练损失： 0.3386222080647188\n",
            "轮次 330 当前轮训练损失： 0.3385885848090597\n",
            "轮次 331 当前轮训练损失： 0.33855513671396503\n",
            "轮次 332 当前轮训练损失： 0.3385218623510141\n",
            "轮次 333 当前轮训练损失： 0.33848876030925323\n",
            "轮次 334 当前轮训练损失： 0.3384558291949204\n",
            "轮次 335 当前轮训练损失： 0.3384230676311742\n",
            "轮次 336 当前轮训练损失： 0.33839047425782853\n",
            "轮次 337 当前轮训练损失： 0.33835804773109157\n",
            "轮次 338 当前轮训练损失： 0.3383257867233098\n",
            "轮次 339 当前轮训练损失： 0.3382936899227165\n",
            "轮次 340 当前轮训练损失： 0.3382617560331853\n",
            "轮次 341 当前轮训练损失： 0.33822998377398766\n",
            "轮次 342 当前轮训练损失： 0.33819837187955515\n",
            "轮次 343 当前轮训练损失： 0.33816691909924596\n",
            "轮次 344 当前轮训练损失： 0.3381356241971149\n",
            "轮次 345 当前轮训练损失： 0.3381044859516895\n",
            "轮次 346 当前轮训练损失： 0.3380735031557476\n",
            "轮次 347 当前轮训练损失： 0.3380426746161005\n",
            "轮次 348 当前轮训练损失： 0.3380119991533802\n",
            "轮次 349 当前轮训练损失： 0.3379814756018292\n",
            "轮次 350 当前轮训练损失： 0.33795110280909524\n",
            "轮次 351 当前轮训练损失： 0.3379208796360289\n",
            "轮次 352 当前轮训练损失： 0.33789080495648516\n",
            "轮次 353 当前轮训练损失： 0.3378608776571284\n",
            "轮次 354 当前轮训练损失： 0.3378310966372411\n",
            "轮次 355 当前轮训练损失： 0.3378014608085351\n",
            "轮次 356 当前轮训练损失： 0.33777196909496743\n",
            "轮次 357 当前轮训练损失： 0.3377426204325577\n",
            "轮次 358 当前轮训练损失： 0.33771341376921094\n",
            "轮次 359 当前轮训练损失： 0.337684348064541\n",
            "轮次 360 当前轮训练损失： 0.33765542228969897\n",
            "轮次 361 当前轮训练损失： 0.3376266354272039\n",
            "轮次 362 当前轮训练损失： 0.3375979864707761\n",
            "轮次 363 当前轮训练损失： 0.3375694744251739\n",
            "轮次 364 当前轮训练损失： 0.3375410983060327\n",
            "轮次 365 当前轮训练损失： 0.3375128571397076\n",
            "轮次 366 当前轮训练损失： 0.33748474996311784\n",
            "轮次 367 当前轮训练损失： 0.3374567758235942\n",
            "轮次 368 当前轮训练损失： 0.3374289337787295\n",
            "轮次 369 当前轮训练损失： 0.33740122289623076\n",
            "轮次 370 当前轮训练损失： 0.3373736422537748\n",
            "轮次 371 当前轮训练损失： 0.33734619093886553\n",
            "轮次 372 当前轮训练损失： 0.3373188680486943\n",
            "轮次 373 当前轮训练损失： 0.337291672690002\n",
            "轮次 374 当前轮训练损失： 0.3372646039789438\n",
            "轮次 375 当前轮训练损失： 0.3372376610409567\n",
            "轮次 376 当前轮训练损失： 0.3372108430106278\n",
            "轮次 377 当前轮训练损失： 0.33718414903156674\n",
            "轮次 378 当前轮训练损失： 0.3371575782562787\n",
            "轮次 379 当前轮训练损失： 0.33713112984603993\n",
            "轮次 380 当前轮训练损失： 0.3371048029707765\n",
            "轮次 381 当前轮训练损失： 0.3370785968089428\n",
            "轮次 382 当前轮训练损失： 0.3370525105474041\n",
            "轮次 383 当前轮训练损失： 0.3370265433813205\n",
            "轮次 384 当前轮训练损失： 0.3370006945140319\n",
            "轮次 385 当前轮训练损失： 0.3369749631569462\n",
            "轮次 386 当前轮训练损失： 0.33694934852942815\n",
            "轮次 387 当前轮训练损失： 0.3369238498586912\n",
            "轮次 388 当前轮训练损失： 0.33689846637968995\n",
            "轮次 389 当前轮训练损失： 0.33687319733501525\n",
            "轮次 390 当前轮训练损失： 0.33684804197479046\n",
            "轮次 391 当前轮训练损失： 0.3368229995565697\n",
            "轮次 392 当前轮训练损失： 0.33679806934523787\n",
            "轮次 393 当前轮训练损失： 0.33677325061291136\n",
            "轮次 394 当前轮训练损失： 0.33674854263884224\n",
            "轮次 395 当前轮训练损失： 0.3367239447093217\n",
            "轮次 396 当前轮训练损失： 0.33669945611758684\n",
            "轮次 397 当前轮训练损失： 0.3366750761637282\n",
            "轮次 398 当前轮训练损失： 0.3366508041545986\n",
            "轮次 399 当前轮训练损失： 0.33662663940372417\n",
            "轮次 400 当前轮训练损失： 0.33660258123121606\n",
            "轮次 401 当前轮训练损失： 0.3365786289636837\n",
            "轮次 402 当前轮训练损失： 0.33655478193414984\n",
            "轮次 403 当前轮训练损失： 0.3365310394819668\n",
            "轮次 404 当前轮训练损失： 0.3365074009527333\n",
            "轮次 405 当前轮训练损失： 0.3364838656982141\n",
            "轮次 406 当前轮训练损失： 0.33646043307625934\n",
            "轮次 407 当前轮训练损失： 0.33643710245072583\n",
            "轮次 408 当前轮训练损失： 0.3364138731914004\n",
            "轮次 409 当前轮训练损失： 0.3363907446739226\n",
            "轮次 410 当前轮训练损失： 0.3363677162797103\n",
            "轮次 411 当前轮训练损失： 0.3363447873958856\n",
            "轮次 412 当前轮训练损失： 0.33632195741520216\n",
            "轮次 413 当前轮训练损失： 0.3362992257359733\n",
            "轮次 414 当前轮训练损失： 0.33627659176200203\n",
            "轮次 415 当前轮训练损失： 0.33625405490251103\n",
            "轮次 416 当前轮训练损失： 0.33623161457207484\n",
            "轮次 417 当前轮训练损失： 0.33620927019055225\n",
            "轮次 418 当前轮训练损失： 0.33618702118302024\n",
            "轮次 419 当前轮训练损失： 0.3361648669797084\n",
            "轮次 420 当前轮训练损失： 0.3361428070159351\n",
            "轮次 421 当前轮训练损失： 0.3361208407320443\n",
            "轮次 422 当前轮训练损失： 0.3360989675733425\n",
            "轮次 423 当前轮训练损失： 0.33607718699003836\n",
            "轮次 424 当前轮训练损失： 0.33605549843718163\n",
            "轮次 425 当前轮训练损失： 0.33603390137460387\n",
            "轮次 426 当前轮训练损失： 0.33601239526685983\n",
            "轮次 427 当前轮训练损失： 0.33599097958316987\n",
            "轮次 428 当前轮训练损失： 0.3359696537973627\n",
            "轮次 429 当前轮训练损失： 0.33594841738782\n",
            "轮次 430 当前轮训练损失： 0.3359272698374207\n",
            "轮次 431 当前轮训练损失： 0.33590621063348686\n",
            "轮次 432 当前轮训练损失： 0.33588523926773023\n",
            "轮次 433 当前轮训练损失： 0.33586435523619945\n",
            "轮次 434 当前轮训练损失： 0.33584355803922805\n",
            "轮次 435 当前轮训练损失： 0.33582284718138367\n",
            "轮次 436 当前轮训练损失： 0.3358022221714166\n",
            "轮次 437 当前轮训练损失： 0.33578168252221147\n",
            "轮次 438 当前轮训练损失： 0.33576122775073747\n",
            "轮次 439 当前轮训练损失： 0.33574085737800025\n",
            "轮次 440 当前轮训练损失： 0.33572057092899465\n",
            "轮次 441 当前轮训练损失： 0.3357003679326576\n",
            "轮次 442 当前轮训练损失： 0.335680247921822\n",
            "轮次 443 当前轮训练损失： 0.33566021043317174\n",
            "轮次 444 当前轮训练损失： 0.3356402550071962\n",
            "轮次 445 当前轮训练损失： 0.3356203811881465\n",
            "轮次 446 当前轮训练损失： 0.33560058852399205\n",
            "轮次 447 当前轮训练损失： 0.3355808765663774\n",
            "轮次 448 当前轮训练损失： 0.3355612448705804\n",
            "轮次 449 当前轮训练损失： 0.3355416929954699\n",
            "轮次 450 当前轮训练损失： 0.33552222050346536\n",
            "轮次 451 当前轮训练损失： 0.335502826960496\n",
            "轮次 452 当前轮训练损失： 0.3354835119359612\n",
            "轮次 453 当前轮训练损失： 0.33546427500269055\n",
            "轮次 454 当前轮训练损失： 0.335445115736906\n",
            "轮次 455 当前轮训练损失： 0.3354260337181832\n",
            "轮次 456 当前轮训练损失： 0.33540702852941323\n",
            "轮次 457 当前轮训练损失： 0.33538809975676703\n",
            "轮次 458 当前轮训练损失： 0.33536924698965687\n",
            "轮次 459 当前轮训练损失： 0.3353504698207019\n",
            "轮次 460 当前轮训练损失： 0.33533176784569163\n",
            "轮次 461 当前轮训练损失： 0.3353131406635511\n",
            "轮次 462 当前轮训练损失： 0.3352945878763062\n",
            "轮次 463 当前轮训练损失： 0.3352761090890502\n",
            "轮次 464 当前轮训练损失： 0.3352577039099089\n",
            "轮次 465 当前轮训练损失： 0.3352393719500083\n",
            "轮次 466 当前轮训练损失： 0.33522111282344197\n",
            "轮次 467 当前轮训练损失： 0.33520292614723834\n",
            "轮次 468 当前轮训练损失： 0.3351848115413292\n",
            "轮次 469 当前轮训练损失： 0.3351667686285182\n",
            "轮次 470 当前轮训练损失： 0.33514879703445005\n",
            "轮次 471 当前轮训练损失： 0.3351308963875797\n",
            "轮次 472 当前轮训练损失： 0.33511306631914267\n",
            "轮次 473 当前轮训练损失： 0.33509530646312513\n",
            "轮次 474 当前轮训练损失： 0.3350776164562345\n",
            "轮次 475 当前轮训练损失： 0.33505999593787084\n",
            "轮次 476 当前轮训练损失： 0.33504244455009813\n",
            "轮次 477 当前轮训练损失： 0.33502496193761666\n",
            "轮次 478 当前轮训练损失： 0.3350075477477342\n",
            "轮次 479 当前轮训练损失： 0.3349902016303402\n",
            "轮次 480 当前轮训练损失： 0.3349729232378775\n",
            "轮次 481 当前轮训练损失： 0.3349557122253162\n",
            "轮次 482 当前轮训练损失： 0.3349385682501277\n",
            "轮次 483 当前轮训练损失： 0.3349214909722582\n",
            "轮次 484 当前轮训练损失： 0.3349044800541037\n",
            "轮次 485 当前轮训练损失： 0.3348875351604844\n",
            "轮次 486 当前轮训练损失： 0.3348706559586198\n",
            "轮次 487 当前轮训练损失： 0.3348538421181046\n",
            "轮次 488 当前轮训练损失： 0.3348370933108838\n",
            "轮次 489 当前轮训练损失： 0.3348204092112294\n",
            "轮次 490 当前轮训练损失： 0.33480378949571626\n",
            "轮次 491 当前轮训练损失： 0.33478723384319936\n",
            "轮次 492 当前轮训练损失： 0.33477074193479045\n",
            "轮次 493 当前轮训练损失： 0.3347543134538355\n",
            "轮次 494 当前轮训练损失： 0.33473794808589197\n",
            "轮次 495 当前轮训练损失： 0.33472164551870764\n",
            "轮次 496 当前轮训练损失： 0.3347054054421976\n",
            "轮次 497 当前轮训练损失： 0.3346892275484238\n",
            "轮次 498 当前轮训练损失： 0.3346731115315727\n",
            "轮次 499 当前轮训练损失： 0.3346570570879356\n",
            "轮次 500 当前轮训练损失： 0.33464106391588694\n",
            "训练最终损失： 0.33464106391588694\n",
            "逻辑回归准确率：86.78%\n"
          ]
        }
      ]
    },
    {
      "cell_type": "code",
      "source": [
        "y_pred = predict(X_test, weight_history[-1], bias_history[-1])\n",
        "testing_acc = 100 - np.mean(np.abs(y_pred - y_test)) * 100\n",
        "print('逻辑回归测试准确率：{:.2f}%'.format(testing_acc))"
      ],
      "metadata": {
        "colab": {
          "base_uri": "https://localhost:8080/"
        },
        "id": "kJ79xqJe3jw0",
        "outputId": "9d181551-0e55-4fc2-a0b7-c8783eca16e1"
      },
      "execution_count": null,
      "outputs": [
        {
          "output_type": "stream",
          "name": "stdout",
          "text": [
            "逻辑回归测试准确率：75.41%\n"
          ]
        }
      ]
    },
    {
      "cell_type": "code",
      "source": [
        "print('逻辑回归预测分类值：\\n', predict(X_test, weight_history[-1], bias_history[-1]))"
      ],
      "metadata": {
        "colab": {
          "base_uri": "https://localhost:8080/"
        },
        "id": "Zg9bcSXw52hM",
        "outputId": "83961ebf-373a-41c4-a93c-c02d96e53d29"
      },
      "execution_count": null,
      "outputs": [
        {
          "output_type": "stream",
          "name": "stdout",
          "text": [
            "逻辑回归预测分类值：\n",
            " [[1.]\n",
            " [0.]\n",
            " [1.]\n",
            " [0.]\n",
            " [0.]\n",
            " [1.]\n",
            " [0.]\n",
            " [0.]\n",
            " [1.]\n",
            " [0.]\n",
            " [1.]\n",
            " [1.]\n",
            " [1.]\n",
            " [1.]\n",
            " [1.]\n",
            " [1.]\n",
            " [1.]\n",
            " [1.]\n",
            " [0.]\n",
            " [1.]\n",
            " [1.]\n",
            " [0.]\n",
            " [0.]\n",
            " [0.]\n",
            " [1.]\n",
            " [1.]\n",
            " [1.]\n",
            " [1.]\n",
            " [1.]\n",
            " [0.]\n",
            " [1.]\n",
            " [1.]\n",
            " [1.]\n",
            " [1.]\n",
            " [0.]\n",
            " [1.]\n",
            " [1.]\n",
            " [0.]\n",
            " [0.]\n",
            " [1.]\n",
            " [1.]\n",
            " [1.]\n",
            " [1.]\n",
            " [1.]\n",
            " [0.]\n",
            " [0.]\n",
            " [0.]\n",
            " [0.]\n",
            " [1.]\n",
            " [1.]\n",
            " [0.]\n",
            " [1.]\n",
            " [1.]\n",
            " [0.]\n",
            " [1.]\n",
            " [1.]\n",
            " [1.]\n",
            " [1.]\n",
            " [1.]\n",
            " [0.]\n",
            " [1.]]\n"
          ]
        }
      ]
    },
    {
      "cell_type": "code",
      "source": [
        "loss_history_test = np.zeros(iterations)\n",
        "for i in range(iterations):\n",
        "    loss_history_test[i] = loss_function(X_test, y_test, weight_history[i], bias_history[i]) \n",
        "index = np.arange(0, iterations, 1)\n",
        "plt.plot(index, loss_history, c='b', linestyle='solid')\n",
        "plt.plot(index, loss_history_test, c='r', linestyle='--')\n",
        "plt.legend(['Training Loss', 'Test Loss'])\n",
        "plt.xlabel('Number of Interations')\n",
        "plt.ylabel('Cost')\n",
        "plt.show()"
      ],
      "metadata": {
        "colab": {
          "base_uri": "https://localhost:8080/",
          "height": 279
        },
        "id": "pEqYwRNu6Sr8",
        "outputId": "3470e022-7fc2-4612-9080-4a84872141ce"
      },
      "execution_count": null,
      "outputs": [
        {
          "output_type": "display_data",
          "data": {
            "text/plain": [
              "<Figure size 432x288 with 1 Axes>"
            ],
            "image/png": "[encoded data removed]"
          },
          "metadata": {
            "needs_background": "light"
          }
        }
      ]
    },
    {
      "cell_type": "code",
      "source": [
        "from sklearn.linear_model import LogisticRegression\n",
        "lr_model = LogisticRegression()\n",
        "lr_model.fit(X_train, y_train)\n",
        "print('SK 预测准确率：{:.2f}%'.format(lr_model.score(X_test, y_test) * 100))"
      ],
      "metadata": {
        "colab": {
          "base_uri": "https://localhost:8080/"
        },
        "id": "q_iRmXUXWD2j",
        "outputId": "583152f6-c7b1-4e4a-8ad3-3995b52ed1e6"
      },
      "execution_count": null,
      "outputs": [
        {
          "output_type": "stream",
          "name": "stdout",
          "text": [
            "SK 预测准确率：70.49%\n"
          ]
        },
        {
          "output_type": "stream",
          "name": "stderr",
          "text": [
            "/usr/local/lib/python3.7/dist-packages/sklearn/utils/validation.py:993: DataConversionWarning: A column-vector y was passed when a 1d array was expected. Please change the shape of y to (n_samples, ), for example using ravel().\n",
            "  y = column_or_1d(y, warn=True)\n"
          ]
        }
      ]
    },
    {
      "cell_type": "code",
      "source": [
        "a = pd.get_dummies(df_heart['cp'], prefix='cp')\n",
        "b = pd.get_dummies(df_heart['thal'], prefix='thal')\n",
        "c = pd.get_dummies(df_heart['slope'], prefix='slope')\n",
        "\n",
        "frames = [df_heart, a, b, c]\n",
        "df_heart = pd.concat(frames, axis=1)\n",
        "df_heart = df_heart.drop(columns=['cp', 'thal', 'slope'])\n",
        "df_heart.head()"
      ],
      "metadata": {
        "colab": {
          "base_uri": "https://localhost:8080/",
          "height": 235
        },
        "id": "4eiXN6S4ZLza",
        "outputId": "d6e2f4ba-eb80-4f2c-abc8-87c955357e28"
      },
      "execution_count": null,
      "outputs": [
        {
          "output_type": "execute_result",
          "data": {
            "text/plain": [
              "   age  sex  trestbps  chol  fbs  restecg  thalach  exang  oldpeak  ca  ...  \\\n",
              "0   63    1       145   233    1        0      150      0      2.3   0  ...   \n",
              "1   37    1       130   250    0        1      187      0      3.5   0  ...   \n",
              "2   41    0       130   204    0        0      172      0      1.4   0  ...   \n",
              "3   56    1       120   236    0        1      178      0      0.8   0  ...   \n",
              "4   57    0       120   354    0        1      163      1      0.6   0  ...   \n",
              "\n",
              "   cp_1  cp_2  cp_3  thal_0  thal_1  thal_2  thal_3  slope_0  slope_1  slope_2  \n",
              "0     0     0     1       0       1       0       0        1        0        0  \n",
              "1     0     1     0       0       0       1       0        1        0        0  \n",
              "2     1     0     0       0       0       1       0        0        0        1  \n",
              "3     1     0     0       0       0       1       0        0        0        1  \n",
              "4     0     0     0       0       0       1       0        0        0        1  \n",
              "\n",
              "[5 rows x 22 columns]"
            ],
            "text/html": [
              "\n",
              "  <div id=\"df-c5a746d7-4d78-4862-a2cd-a41a1d318a9e\">\n",
              "    <div class=\"colab-df-container\">\n",
              "      <div>\n",
              "<style scoped>\n",
              "    .dataframe tbody tr th:only-of-type {\n",
              "        vertical-align: middle;\n",
              "    }\n",
              "\n",
              "    .dataframe tbody tr th {\n",
              "        vertical-align: top;\n",
              "    }\n",
              "\n",
              "    .dataframe thead th {\n",
              "        text-align: right;\n",
              "    }\n",
              "</style>\n",
              "<table border=\"1\" class=\"dataframe\">\n",
              "  <thead>\n",
              "    <tr style=\"text-align: right;\">\n",
              "      <th></th>\n",
              "      <th>age</th>\n",
              "      <th>sex</th>\n",
              "      <th>trestbps</th>\n",
              "      <th>chol</th>\n",
              "      <th>fbs</th>\n",
              "      <th>restecg</th>\n",
              "      <th>thalach</th>\n",
              "      <th>exang</th>\n",
              "      <th>oldpeak</th>\n",
              "      <th>ca</th>\n",
              "      <th>...</th>\n",
              "      <th>cp_1</th>\n",
              "      <th>cp_2</th>\n",
              "      <th>cp_3</th>\n",
              "      <th>thal_0</th>\n",
              "      <th>thal_1</th>\n",
              "      <th>thal_2</th>\n",
              "      <th>thal_3</th>\n",
              "      <th>slope_0</th>\n",
              "      <th>slope_1</th>\n",
              "      <th>slope_2</th>\n",
              "    </tr>\n",
              "  </thead>\n",
              "  <tbody>\n",
              "    <tr>\n",
              "      <th>0</th>\n",
              "      <td>63</td>\n",
              "      <td>1</td>\n",
              "      <td>145</td>\n",
              "      <td>233</td>\n",
              "      <td>1</td>\n",
              "      <td>0</td>\n",
              "      <td>150</td>\n",
              "      <td>0</td>\n",
              "      <td>2.3</td>\n",
              "      <td>0</td>\n",
              "      <td>...</td>\n",
              "      <td>0</td>\n",
              "      <td>0</td>\n",
              "      <td>1</td>\n",
              "      <td>0</td>\n",
              "      <td>1</td>\n",
              "      <td>0</td>\n",
              "      <td>0</td>\n",
              "      <td>1</td>\n",
              "      <td>0</td>\n",
              "      <td>0</td>\n",
              "    </tr>\n",
              "    <tr>\n",
              "      <th>1</th>\n",
              "      <td>37</td>\n",
              "      <td>1</td>\n",
              "      <td>130</td>\n",
              "      <td>250</td>\n",
              "      <td>0</td>\n",
              "      <td>1</td>\n",
              "      <td>187</td>\n",
              "      <td>0</td>\n",
              "      <td>3.5</td>\n",
              "      <td>0</td>\n",
              "      <td>...</td>\n",
              "      <td>0</td>\n",
              "      <td>1</td>\n",
              "      <td>0</td>\n",
              "      <td>0</td>\n",
              "      <td>0</td>\n",
              "      <td>1</td>\n",
              "      <td>0</td>\n",
              "      <td>1</td>\n",
              "      <td>0</td>\n",
              "      <td>0</td>\n",
              "    </tr>\n",
              "    <tr>\n",
              "      <th>2</th>\n",
              "      <td>41</td>\n",
              "      <td>0</td>\n",
              "      <td>130</td>\n",
              "      <td>204</td>\n",
              "      <td>0</td>\n",
              "      <td>0</td>\n",
              "      <td>172</td>\n",
              "      <td>0</td>\n",
              "      <td>1.4</td>\n",
              "      <td>0</td>\n",
              "      <td>...</td>\n",
              "      <td>1</td>\n",
              "      <td>0</td>\n",
              "      <td>0</td>\n",
              "      <td>0</td>\n",
              "      <td>0</td>\n",
              "      <td>1</td>\n",
              "      <td>0</td>\n",
              "      <td>0</td>\n",
              "      <td>0</td>\n",
              "      <td>1</td>\n",
              "    </tr>\n",
              "    <tr>\n",
              "      <th>3</th>\n",
              "      <td>56</td>\n",
              "      <td>1</td>\n",
              "      <td>120</td>\n",
              "      <td>236</td>\n",
              "      <td>0</td>\n",
              "      <td>1</td>\n",
              "      <td>178</td>\n",
              "      <td>0</td>\n",
              "      <td>0.8</td>\n",
              "      <td>0</td>\n",
              "      <td>...</td>\n",
              "      <td>1</td>\n",
              "      <td>0</td>\n",
              "      <td>0</td>\n",
              "      <td>0</td>\n",
              "      <td>0</td>\n",
              "      <td>1</td>\n",
              "      <td>0</td>\n",
              "      <td>0</td>\n",
              "      <td>0</td>\n",
              "      <td>1</td>\n",
              "    </tr>\n",
              "    <tr>\n",
              "      <th>4</th>\n",
              "      <td>57</td>\n",
              "      <td>0</td>\n",
              "      <td>120</td>\n",
              "      <td>354</td>\n",
              "      <td>0</td>\n",
              "      <td>1</td>\n",
              "      <td>163</td>\n",
              "      <td>1</td>\n",
              "      <td>0.6</td>\n",
              "      <td>0</td>\n",
              "      <td>...</td>\n",
              "      <td>0</td>\n",
              "      <td>0</td>\n",
              "      <td>0</td>\n",
              "      <td>0</td>\n",
              "      <td>0</td>\n",
              "      <td>1</td>\n",
              "      <td>0</td>\n",
              "      <td>0</td>\n",
              "      <td>0</td>\n",
              "      <td>1</td>\n",
              "    </tr>\n",
              "  </tbody>\n",
              "</table>\n",
              "<p>5 rows × 22 columns</p>\n",
              "</div>\n",
              "      <button class=\"colab-df-convert\" onclick=\"convertToInteractive('df-c5a746d7-4d78-4862-a2cd-a41a1d318a9e')\"\n",
              "              title=\"Convert this dataframe to an interactive table.\"\n",
              "              style=\"display:none;\">\n",
              "        \n",
              "  <svg xmlns=\"http://www.w3.org/2000/svg\" height=\"24px\"viewBox=\"0 0 24 24\"\n",
              "       width=\"24px\">\n",
              "    <path d=\"M0 0h24v24H0V0z\" fill=\"none\"/>\n",
              "    <path d=\"M18.56 5.44l.94 2.06.94-2.06 2.06-.94-2.06-.94-.94-2.06-.94 2.06-2.06.94zm-11 1L8.5 8.5l.94-2.06 2.06-.94-2.06-.94L8.5 2.5l-.94 2.06-2.06.94zm10 10l.94 2.06.94-2.06 2.06-.94-2.06-.94-.94-2.06-.94 2.06-2.06.94z\"/><path d=\"M17.41 7.96l-1.37-1.37c-.4-.4-.92-.59-1.43-.59-.52 0-1.04.2-1.43.59L10.3 9.45l-7.72 7.72c-.78.78-.78 2.05 0 2.83L4 21.41c.39.39.9.59 1.41.59.51 0 1.02-.2 1.41-.59l7.78-7.78 2.81-2.81c.8-.78.8-2.07 0-2.86zM5.41 20L4 18.59l7.72-7.72 1.47 1.35L5.41 20z\"/>\n",
              "  </svg>\n",
              "      </button>\n",
              "      \n",
              "  <style>\n",
              "    .colab-df-container {\n",
              "      display:flex;\n",
              "      flex-wrap:wrap;\n",
              "      gap: 12px;\n",
              "    }\n",
              "\n",
              "    .colab-df-convert {\n",
              "      background-color: #E8F0FE;\n",
              "      border: none;\n",
              "      border-radius: 50%;\n",
              "      cursor: pointer;\n",
              "      display: none;\n",
              "      fill: #1967D2;\n",
              "      height: 32px;\n",
              "      padding: 0 0 0 0;\n",
              "      width: 32px;\n",
              "    }\n",
              "\n",
              "    .colab-df-convert:hover {\n",
              "      background-color: #E2EBFA;\n",
              "      box-shadow: 0px 1px 2px rgba(60, 64, 67, 0.3), 0px 1px 3px 1px rgba(60, 64, 67, 0.15);\n",
              "      fill: #174EA6;\n",
              "    }\n",
              "\n",
              "    [theme=dark] .colab-df-convert {\n",
              "      background-color: #3B4455;\n",
              "      fill: #D2E3FC;\n",
              "    }\n",
              "\n",
              "    [theme=dark] .colab-df-convert:hover {\n",
              "      background-color: #434B5C;\n",
              "      box-shadow: 0px 1px 3px 1px rgba(0, 0, 0, 0.15);\n",
              "      filter: drop-shadow(0px 1px 2px rgba(0, 0, 0, 0.3));\n",
              "      fill: #FFFFFF;\n",
              "    }\n",
              "  </style>\n",
              "\n",
              "      <script>\n",
              "        const buttonEl =\n",
              "          document.querySelector('#df-c5a746d7-4d78-4862-a2cd-a41a1d318a9e button.colab-df-convert');\n",
              "        buttonEl.style.display =\n",
              "          google.colab.kernel.accessAllowed ? 'block' : 'none';\n",
              "\n",
              "        async function convertToInteractive(key) {\n",
              "          const element = document.querySelector('#df-c5a746d7-4d78-4862-a2cd-a41a1d318a9e');\n",
              "          const dataTable =\n",
              "            await google.colab.kernel.invokeFunction('convertToInteractive',\n",
              "                                                     [key], {});\n",
              "          if (!dataTable) return;\n",
              "\n",
              "          const docLinkHtml = 'Like what you see? Visit the ' +\n",
              "            '<a target=\"_blank\" href=https://colab.research.google.com/notebooks/data_table.ipynb>data table notebook</a>'\n",
              "            + ' to learn more about interactive tables.';\n",
              "          element.innerHTML = '';\n",
              "          dataTable['output_type'] = 'display_data';\n",
              "          await google.colab.output.renderOutput(dataTable, element);\n",
              "          const docLink = document.createElement('div');\n",
              "          docLink.innerHTML = docLinkHtml;\n",
              "          element.appendChild(docLink);\n",
              "        }\n",
              "      </script>\n",
              "    </div>\n",
              "  </div>\n",
              "  "
            ]
          },
          "metadata": {},
          "execution_count": 21
        }
      ]
    },
    {
      "cell_type": "markdown",
      "source": [
        "多元回归"
      ],
      "metadata": {
        "id": "IICxDrFXct0_"
      }
    },
    {
      "cell_type": "code",
      "source": [
        "import numpy as np\n",
        "import pandas as pd\n",
        "from sklearn import datasets\n",
        "iris = datasets.load_iris()\n",
        "X_sepal = iris.data[:, [0, 1]]\n",
        "X_petal = iris.data[:, [2, 3]]\n",
        "y = iris.target"
      ],
      "metadata": {
        "id": "FVzwYzEwcyV8"
      },
      "execution_count": null,
      "outputs": []
    },
    {
      "cell_type": "code",
      "source": [
        "from sklearn.model_selection import train_test_split\n",
        "from sklearn.preprocessing import StandardScaler\n",
        "\n",
        "X_train_sepal, X_test_sepal, y_train_sepal, y_test_sepal = train_test_split(X_sepal, y,\n",
        "                                                                            test_size=0.3, random_state=0)\n",
        "print('花萼训练集样本数：', len(X_train_sepal))\n",
        "print('花萼测试集样本数：', len(X_test_sepal))\n",
        "scaler = StandardScaler()\n",
        "X_train_sepal = scaler.fit_transform(X_train_sepal)\n",
        "X_test_sepal = scaler.transform(X_test_sepal)\n",
        "\n",
        "X_combined_sepal = np.vstack((X_train_sepal, X_test_sepal))\n",
        "Y_combined_sepal = np.hstack((y_train_sepal, y_test_sepal))"
      ],
      "metadata": {
        "colab": {
          "base_uri": "https://localhost:8080/"
        },
        "id": "XZeer8OVd4QB",
        "outputId": "5170277d-79c6-4050-8912-56db4f333564"
      },
      "execution_count": 32,
      "outputs": [
        {
          "output_type": "stream",
          "name": "stdout",
          "text": [
            "花瓣训练集样本数： 105\n",
            "花瓣测试集样本数： 45\n"
          ]
        }
      ]
    },
    {
      "cell_type": "code",
      "source": [
        "from sklearn.linear_model import LogisticRegression\n",
        "lr = LogisticRegression(penalty='l2', C=0.1)\n",
        "lr.fit(X_train_sepal, y_train_sepal)\n",
        "score = lr.score(X_test_sepal, y_test_sepal)\n",
        "print('SK逻辑回归准确率：{:.2f}%'.format(score*100))"
      ],
      "metadata": {
        "colab": {
          "base_uri": "https://localhost:8080/"
        },
        "id": "4V8DdYGRg63f",
        "outputId": "7f359b15-9856-4be8-d65f-9660539bdc08"
      },
      "execution_count": 33,
      "outputs": [
        {
          "output_type": "stream",
          "name": "stdout",
          "text": [
            "SK逻辑回归准确率：68.89%\n"
          ]
        }
      ]
    },
    {
      "cell_type": "code",
      "source": [
        "import matplotlib.pyplot as plt # 导入matplotlib\n",
        "from matplotlib.colors import ListedColormap # 导入Colormap\n",
        "def plot_decision_regions(X,y,classifier,test_idx=None,resolution=0.02):    \n",
        "    markers = ('o','x','v')\n",
        "    colors = ('red','blue','lightgreen')\n",
        "    color_Map = ListedColormap(colors[:len(np.unique(y))])     \n",
        "    x1_min = X[:,0].min() - 1\n",
        "    x1_max = X[:,0].max() + 1\n",
        "    x2_min = X[:,1].min() - 1\n",
        "    x2_max = X[:,1].max() + 1\n",
        "    xx1, xx2 = np.meshgrid(np.arange(x1_min,x1_max,resolution),\n",
        "                           np.arange(x2_min,x2_max,resolution))    \n",
        "    Z = classifier.predict(np.array([xx1.ravel(),xx2.ravel()]).T)\n",
        "    Z = Z.reshape(xx1.shape)    \n",
        "    plt.contour(xx1,xx2,Z,alpha=0.4,cmap = color_Map)\n",
        "    plt.xlim(xx1.min(),xx1.max())\n",
        "    plt.ylim(xx2.min(),xx2.max())   \n",
        "    X_test, Y_test = X[test_idx,:], y[test_idx]\n",
        "    for idx, cl in enumerate(np.unique(y)):\n",
        "        plt.scatter(x = X[y == cl, 0], y = X[y == cl, 1],\n",
        "                    alpha = 0.8, c = color_Map(idx),\n",
        "                    marker = markers[idx], label = cl)"
      ],
      "metadata": {
        "id": "MAGxISv8idxQ"
      },
      "execution_count": 34,
      "outputs": []
    },
    {
      "cell_type": "code",
      "source": [
        "from sklearn.metrics import accuracy_score # 导入准确率指标\n",
        "C_param_range = [0.01,0.1,1,10,100,1000]\n",
        "sepal_acc_table = pd.DataFrame(columns = ['C_parameter','Accuracy'])\n",
        "sepal_acc_table['C_parameter'] = C_param_range\n",
        "plt.figure(figsize=(10, 10))\n",
        "j = 0\n",
        "for i in C_param_range:\n",
        "    lr = LogisticRegression(penalty = 'l2', C = i,random_state = 0)\n",
        "    lr.fit(X_train_sepal,y_train_sepal)\n",
        "    y_pred_sepal = lr.predict(X_test_sepal)\n",
        "    sepal_acc_table.iloc[j,1] = accuracy_score(y_test_sepal,y_pred_sepal)\n",
        "    j += 1    \n",
        "    plt.subplot(3,2,j)\n",
        "    plt.subplots_adjust(hspace = 0.4)\n",
        "    plot_decision_regions(X = X_combined_sepal, y = Y_combined_sepal, \n",
        "                          classifier = lr, test_idx = range(0,150))\n",
        "    plt.xlabel('Sepal length')\n",
        "    plt.ylabel('Sepal width')\n",
        "    plt.title('C = %s'%i)"
      ],
      "metadata": {
        "colab": {
          "base_uri": "https://localhost:8080/",
          "height": 953
        },
        "id": "SG4mGMoij9NY",
        "outputId": "870f0fae-2e7b-4ae2-e781-ace6747e90b6"
      },
      "execution_count": 35,
      "outputs": [
        {
          "output_type": "stream",
          "name": "stderr",
          "text": [
            "WARNING:matplotlib.axes._axes:*c* argument looks like a single numeric RGB or RGBA sequence, which should be avoided as value-mapping will have precedence in case its length matches with *x* & *y*.  Please use the *color* keyword-argument or provide a 2-D array with a single row if you intend to specify the same RGB or RGBA value for all points.\n",
            "WARNING:matplotlib.axes._axes:*c* argument looks like a single numeric RGB or RGBA sequence, which should be avoided as value-mapping will have precedence in case its length matches with *x* & *y*.  Please use the *color* keyword-argument or provide a 2-D array with a single row if you intend to specify the same RGB or RGBA value for all points.\n",
            "WARNING:matplotlib.axes._axes:*c* argument looks like a single numeric RGB or RGBA sequence, which should be avoided as value-mapping will have precedence in case its length matches with *x* & *y*.  Please use the *color* keyword-argument or provide a 2-D array with a single row if you intend to specify the same RGB or RGBA value for all points.\n",
            "WARNING:matplotlib.axes._axes:*c* argument looks like a single numeric RGB or RGBA sequence, which should be avoided as value-mapping will have precedence in case its length matches with *x* & *y*.  Please use the *color* keyword-argument or provide a 2-D array with a single row if you intend to specify the same RGB or RGBA value for all points.\n",
            "WARNING:matplotlib.axes._axes:*c* argument looks like a single numeric RGB or RGBA sequence, which should be avoided as value-mapping will have precedence in case its length matches with *x* & *y*.  Please use the *color* keyword-argument or provide a 2-D array with a single row if you intend to specify the same RGB or RGBA value for all points.\n",
            "WARNING:matplotlib.axes._axes:*c* argument looks like a single numeric RGB or RGBA sequence, which should be avoided as value-mapping will have precedence in case its length matches with *x* & *y*.  Please use the *color* keyword-argument or provide a 2-D array with a single row if you intend to specify the same RGB or RGBA value for all points.\n",
            "WARNING:matplotlib.axes._axes:*c* argument looks like a single numeric RGB or RGBA sequence, which should be avoided as value-mapping will have precedence in case its length matches with *x* & *y*.  Please use the *color* keyword-argument or provide a 2-D array with a single row if you intend to specify the same RGB or RGBA value for all points.\n",
            "WARNING:matplotlib.axes._axes:*c* argument looks like a single numeric RGB or RGBA sequence, which should be avoided as value-mapping will have precedence in case its length matches with *x* & *y*.  Please use the *color* keyword-argument or provide a 2-D array with a single row if you intend to specify the same RGB or RGBA value for all points.\n",
            "WARNING:matplotlib.axes._axes:*c* argument looks like a single numeric RGB or RGBA sequence, which should be avoided as value-mapping will have precedence in case its length matches with *x* & *y*.  Please use the *color* keyword-argument or provide a 2-D array with a single row if you intend to specify the same RGB or RGBA value for all points.\n",
            "WARNING:matplotlib.axes._axes:*c* argument looks like a single numeric RGB or RGBA sequence, which should be avoided as value-mapping will have precedence in case its length matches with *x* & *y*.  Please use the *color* keyword-argument or provide a 2-D array with a single row if you intend to specify the same RGB or RGBA value for all points.\n",
            "WARNING:matplotlib.axes._axes:*c* argument looks like a single numeric RGB or RGBA sequence, which should be avoided as value-mapping will have precedence in case its length matches with *x* & *y*.  Please use the *color* keyword-argument or provide a 2-D array with a single row if you intend to specify the same RGB or RGBA value for all points.\n",
            "WARNING:matplotlib.axes._axes:*c* argument looks like a single numeric RGB or RGBA sequence, which should be avoided as value-mapping will have precedence in case its length matches with *x* & *y*.  Please use the *color* keyword-argument or provide a 2-D array with a single row if you intend to specify the same RGB or RGBA value for all points.\n",
            "WARNING:matplotlib.axes._axes:*c* argument looks like a single numeric RGB or RGBA sequence, which should be avoided as value-mapping will have precedence in case its length matches with *x* & *y*.  Please use the *color* keyword-argument or provide a 2-D array with a single row if you intend to specify the same RGB or RGBA value for all points.\n",
            "WARNING:matplotlib.axes._axes:*c* argument looks like a single numeric RGB or RGBA sequence, which should be avoided as value-mapping will have precedence in case its length matches with *x* & *y*.  Please use the *color* keyword-argument or provide a 2-D array with a single row if you intend to specify the same RGB or RGBA value for all points.\n",
            "WARNING:matplotlib.axes._axes:*c* argument looks like a single numeric RGB or RGBA sequence, which should be avoided as value-mapping will have precedence in case its length matches with *x* & *y*.  Please use the *color* keyword-argument or provide a 2-D array with a single row if you intend to specify the same RGB or RGBA value for all points.\n",
            "WARNING:matplotlib.axes._axes:*c* argument looks like a single numeric RGB or RGBA sequence, which should be avoided as value-mapping will have precedence in case its length matches with *x* & *y*.  Please use the *color* keyword-argument or provide a 2-D array with a single row if you intend to specify the same RGB or RGBA value for all points.\n",
            "WARNING:matplotlib.axes._axes:*c* argument looks like a single numeric RGB or RGBA sequence, which should be avoided as value-mapping will have precedence in case its length matches with *x* & *y*.  Please use the *color* keyword-argument or provide a 2-D array with a single row if you intend to specify the same RGB or RGBA value for all points.\n",
            "WARNING:matplotlib.axes._axes:*c* argument looks like a single numeric RGB or RGBA sequence, which should be avoided as value-mapping will have precedence in case its length matches with *x* & *y*.  Please use the *color* keyword-argument or provide a 2-D array with a single row if you intend to specify the same RGB or RGBA value for all points.\n"
          ]
        },
        {
          "output_type": "display_data",
          "data": {
            "text/plain": [
              "<Figure size 720x720 with 6 Axes>"
            ],
            "image/png": "[encoded data removed]"
          },
          "metadata": {
            "needs_background": "light"
          }
        }
      ]
    },
    {
      "cell_type": "code",
      "source": [
        "lr = LogisticRegression(penalty='l2', C=10)\n",
        "lr.fit(X_train_sepal, y_train_sepal)\n",
        "score = lr.score(X_test_sepal, y_test_sepal)\n",
        "print('SK逻辑回归准确率：{:.2f}%'.format(score*100))"
      ],
      "metadata": {
        "colab": {
          "base_uri": "https://localhost:8080/"
        },
        "id": "-HGb1HlOkRAM",
        "outputId": "423ba674-46a5-4f4b-c5c5-07ad09566744"
      },
      "execution_count": 38,
      "outputs": [
        {
          "output_type": "stream",
          "name": "stdout",
          "text": [
            "SK逻辑回归准确率：80.00%\n"
          ]
        }
      ]
    },
    {
      "cell_type": "markdown",
      "source": [
        "练习一 泰坦尼克"
      ],
      "metadata": {
        "id": "GiU5GacXme5D"
      }
    },
    {
      "cell_type": "code",
      "source": [
        "import numpy as np\n",
        "import pandas as pd\n",
        "df_taitan = pd.read_csv('train.csv')\n",
        "df_taitan.head()"
      ],
      "metadata": {
        "colab": {
          "base_uri": "https://localhost:8080/",
          "height": 206
        },
        "id": "m_8JYrPqmk-X",
        "outputId": "9208d40b-53c0-45b0-9b85-b94ebb9953e8"
      },
      "execution_count": 40,
      "outputs": [
        {
          "output_type": "execute_result",
          "data": {
            "text/plain": [
              "   PassengerId  Survived  Pclass  \\\n",
              "0            1         0       3   \n",
              "1            2         1       1   \n",
              "2            3         1       3   \n",
              "3            4         1       1   \n",
              "4            5         0       3   \n",
              "\n",
              "                                                Name     Sex   Age  SibSp  \\\n",
              "0                            Braund, Mr. Owen Harris    male  22.0      1   \n",
              "1  Cumings, Mrs. John Bradley (Florence Briggs Th...  female  38.0      1   \n",
              "2                             Heikkinen, Miss. Laina  female  26.0      0   \n",
              "3       Futrelle, Mrs. Jacques Heath (Lily May Peel)  female  35.0      1   \n",
              "4                           Allen, Mr. William Henry    male  35.0      0   \n",
              "\n",
              "   Parch            Ticket     Fare Cabin Embarked  \n",
              "0      0         A/5 21171   7.2500   NaN        S  \n",
              "1      0          PC 17599  71.2833   C85        C  \n",
              "2      0  STON/O2. 3101282   7.9250   NaN        S  \n",
              "3      0            113803  53.1000  C123        S  \n",
              "4      0            373450   8.0500   NaN        S  "
            ],
            "text/html": [
              "\n",
              "  <div id=\"df-378dd99f-1b44-49ec-bdb9-e304c4dfc6ab\">\n",
              "    <div class=\"colab-df-container\">\n",
              "      <div>\n",
              "<style scoped>\n",
              "    .dataframe tbody tr th:only-of-type {\n",
              "        vertical-align: middle;\n",
              "    }\n",
              "\n",
              "    .dataframe tbody tr th {\n",
              "        vertical-align: top;\n",
              "    }\n",
              "\n",
              "    .dataframe thead th {\n",
              "        text-align: right;\n",
              "    }\n",
              "</style>\n",
              "<table border=\"1\" class=\"dataframe\">\n",
              "  <thead>\n",
              "    <tr style=\"text-align: right;\">\n",
              "      <th></th>\n",
              "      <th>PassengerId</th>\n",
              "      <th>Survived</th>\n",
              "      <th>Pclass</th>\n",
              "      <th>Name</th>\n",
              "      <th>Sex</th>\n",
              "      <th>Age</th>\n",
              "      <th>SibSp</th>\n",
              "      <th>Parch</th>\n",
              "      <th>Ticket</th>\n",
              "      <th>Fare</th>\n",
              "      <th>Cabin</th>\n",
              "      <th>Embarked</th>\n",
              "    </tr>\n",
              "  </thead>\n",
              "  <tbody>\n",
              "    <tr>\n",
              "      <th>0</th>\n",
              "      <td>1</td>\n",
              "      <td>0</td>\n",
              "      <td>3</td>\n",
              "      <td>Braund, Mr. Owen Harris</td>\n",
              "      <td>male</td>\n",
              "      <td>22.0</td>\n",
              "      <td>1</td>\n",
              "      <td>0</td>\n",
              "      <td>A/5 21171</td>\n",
              "      <td>7.2500</td>\n",
              "      <td>NaN</td>\n",
              "      <td>S</td>\n",
              "    </tr>\n",
              "    <tr>\n",
              "      <th>1</th>\n",
              "      <td>2</td>\n",
              "      <td>1</td>\n",
              "      <td>1</td>\n",
              "      <td>Cumings, Mrs. John Bradley (Florence Briggs Th...</td>\n",
              "      <td>female</td>\n",
              "      <td>38.0</td>\n",
              "      <td>1</td>\n",
              "      <td>0</td>\n",
              "      <td>PC 17599</td>\n",
              "      <td>71.2833</td>\n",
              "      <td>C85</td>\n",
              "      <td>C</td>\n",
              "    </tr>\n",
              "    <tr>\n",
              "      <th>2</th>\n",
              "      <td>3</td>\n",
              "      <td>1</td>\n",
              "      <td>3</td>\n",
              "      <td>Heikkinen, Miss. Laina</td>\n",
              "      <td>female</td>\n",
              "      <td>26.0</td>\n",
              "      <td>0</td>\n",
              "      <td>0</td>\n",
              "      <td>STON/O2. 3101282</td>\n",
              "      <td>7.9250</td>\n",
              "      <td>NaN</td>\n",
              "      <td>S</td>\n",
              "    </tr>\n",
              "    <tr>\n",
              "      <th>3</th>\n",
              "      <td>4</td>\n",
              "      <td>1</td>\n",
              "      <td>1</td>\n",
              "      <td>Futrelle, Mrs. Jacques Heath (Lily May Peel)</td>\n",
              "      <td>female</td>\n",
              "      <td>35.0</td>\n",
              "      <td>1</td>\n",
              "      <td>0</td>\n",
              "      <td>113803</td>\n",
              "      <td>53.1000</td>\n",
              "      <td>C123</td>\n",
              "      <td>S</td>\n",
              "    </tr>\n",
              "    <tr>\n",
              "      <th>4</th>\n",
              "      <td>5</td>\n",
              "      <td>0</td>\n",
              "      <td>3</td>\n",
              "      <td>Allen, Mr. William Henry</td>\n",
              "      <td>male</td>\n",
              "      <td>35.0</td>\n",
              "      <td>0</td>\n",
              "      <td>0</td>\n",
              "      <td>373450</td>\n",
              "      <td>8.0500</td>\n",
              "      <td>NaN</td>\n",
              "      <td>S</td>\n",
              "    </tr>\n",
              "  </tbody>\n",
              "</table>\n",
              "</div>\n",
              "      <button class=\"colab-df-convert\" onclick=\"convertToInteractive('df-378dd99f-1b44-49ec-bdb9-e304c4dfc6ab')\"\n",
              "              title=\"Convert this dataframe to an interactive table.\"\n",
              "              style=\"display:none;\">\n",
              "        \n",
              "  <svg xmlns=\"http://www.w3.org/2000/svg\" height=\"24px\"viewBox=\"0 0 24 24\"\n",
              "       width=\"24px\">\n",
              "    <path d=\"M0 0h24v24H0V0z\" fill=\"none\"/>\n",
              "    <path d=\"M18.56 5.44l.94 2.06.94-2.06 2.06-.94-2.06-.94-.94-2.06-.94 2.06-2.06.94zm-11 1L8.5 8.5l.94-2.06 2.06-.94-2.06-.94L8.5 2.5l-.94 2.06-2.06.94zm10 10l.94 2.06.94-2.06 2.06-.94-2.06-.94-.94-2.06-.94 2.06-2.06.94z\"/><path d=\"M17.41 7.96l-1.37-1.37c-.4-.4-.92-.59-1.43-.59-.52 0-1.04.2-1.43.59L10.3 9.45l-7.72 7.72c-.78.78-.78 2.05 0 2.83L4 21.41c.39.39.9.59 1.41.59.51 0 1.02-.2 1.41-.59l7.78-7.78 2.81-2.81c.8-.78.8-2.07 0-2.86zM5.41 20L4 18.59l7.72-7.72 1.47 1.35L5.41 20z\"/>\n",
              "  </svg>\n",
              "      </button>\n",
              "      \n",
              "  <style>\n",
              "    .colab-df-container {\n",
              "      display:flex;\n",
              "      flex-wrap:wrap;\n",
              "      gap: 12px;\n",
              "    }\n",
              "\n",
              "    .colab-df-convert {\n",
              "      background-color: #E8F0FE;\n",
              "      border: none;\n",
              "      border-radius: 50%;\n",
              "      cursor: pointer;\n",
              "      display: none;\n",
              "      fill: #1967D2;\n",
              "      height: 32px;\n",
              "      padding: 0 0 0 0;\n",
              "      width: 32px;\n",
              "    }\n",
              "\n",
              "    .colab-df-convert:hover {\n",
              "      background-color: #E2EBFA;\n",
              "      box-shadow: 0px 1px 2px rgba(60, 64, 67, 0.3), 0px 1px 3px 1px rgba(60, 64, 67, 0.15);\n",
              "      fill: #174EA6;\n",
              "    }\n",
              "\n",
              "    [theme=dark] .colab-df-convert {\n",
              "      background-color: #3B4455;\n",
              "      fill: #D2E3FC;\n",
              "    }\n",
              "\n",
              "    [theme=dark] .colab-df-convert:hover {\n",
              "      background-color: #434B5C;\n",
              "      box-shadow: 0px 1px 3px 1px rgba(0, 0, 0, 0.15);\n",
              "      filter: drop-shadow(0px 1px 2px rgba(0, 0, 0, 0.3));\n",
              "      fill: #FFFFFF;\n",
              "    }\n",
              "  </style>\n",
              "\n",
              "      <script>\n",
              "        const buttonEl =\n",
              "          document.querySelector('#df-378dd99f-1b44-49ec-bdb9-e304c4dfc6ab button.colab-df-convert');\n",
              "        buttonEl.style.display =\n",
              "          google.colab.kernel.accessAllowed ? 'block' : 'none';\n",
              "\n",
              "        async function convertToInteractive(key) {\n",
              "          const element = document.querySelector('#df-378dd99f-1b44-49ec-bdb9-e304c4dfc6ab');\n",
              "          const dataTable =\n",
              "            await google.colab.kernel.invokeFunction('convertToInteractive',\n",
              "                                                     [key], {});\n",
              "          if (!dataTable) return;\n",
              "\n",
              "          const docLinkHtml = 'Like what you see? Visit the ' +\n",
              "            '<a target=\"_blank\" href=https://colab.research.google.com/notebooks/data_table.ipynb>data table notebook</a>'\n",
              "            + ' to learn more about interactive tables.';\n",
              "          element.innerHTML = '';\n",
              "          dataTable['output_type'] = 'display_data';\n",
              "          await google.colab.output.renderOutput(dataTable, element);\n",
              "          const docLink = document.createElement('div');\n",
              "          docLink.innerHTML = docLinkHtml;\n",
              "          element.appendChild(docLink);\n",
              "        }\n",
              "      </script>\n",
              "    </div>\n",
              "  </div>\n",
              "  "
            ]
          },
          "metadata": {},
          "execution_count": 40
        }
      ]
    },
    {
      "cell_type": "code",
      "source": [
        "df_taitan.Survived.value_counts()"
      ],
      "metadata": {
        "colab": {
          "base_uri": "https://localhost:8080/"
        },
        "id": "qi9gBbw3oKqG",
        "outputId": "50bffc27-3332-4730-8836-8bb34e1488a2"
      },
      "execution_count": 49,
      "outputs": [
        {
          "output_type": "execute_result",
          "data": {
            "text/plain": [
              "0    549\n",
              "1    342\n",
              "Name: Survived, dtype: int64"
            ]
          },
          "metadata": {},
          "execution_count": 49
        }
      ]
    },
    {
      "cell_type": "code",
      "source": [
        "df_taitan['Age'] = df_taitan['Age'].fillna(0)"
      ],
      "metadata": {
        "id": "Sikl8F9nvvCe"
      },
      "execution_count": 50,
      "outputs": []
    },
    {
      "cell_type": "code",
      "source": [
        "import matplotlib.pyplot as plt\n",
        "# 以性别+年龄作为输入，查看分类结果散点图\n",
        "plt.scatter(x=df_taitan.Age[df_taitan.Survived==0],\n",
        "            y=df_taitan.Sex[df_taitan.Survived==0], c='r')\n",
        "plt.scatter(x=df_taitan.Age[df_taitan.Survived==1],\n",
        "            y=df_taitan.Sex[df_taitan.Survived==1], marker='^')\n",
        "plt.legend(['Died', 'Survived'])\n",
        "plt.xlabel('Age')\n",
        "plt.ylabel('Sex')\n",
        "plt.show()"
      ],
      "metadata": {
        "colab": {
          "base_uri": "https://localhost:8080/",
          "height": 279
        },
        "id": "KUiaWNL4o2-2",
        "outputId": "ec97512f-32be-4d4d-9a39-e27df2bb28e2"
      },
      "execution_count": 51,
      "outputs": [
        {
          "output_type": "display_data",
          "data": {
            "text/plain": [
              "<Figure size 432x288 with 1 Axes>"
            ],
            "image/png": "[encoded data removed]"
          },
          "metadata": {
            "needs_background": "light"
          }
        }
      ]
    },
    {
      "cell_type": "code",
      "source": [
        "import matplotlib.pyplot as plt\n",
        "# 以票价+年龄作为输入，查看分类结果散点图\n",
        "plt.scatter(x=df_taitan.Age[df_taitan.Survived==0],\n",
        "            y=df_taitan.Fare[df_taitan.Survived==0], c='r')\n",
        "plt.scatter(x=df_taitan.Age[df_taitan.Survived==1],\n",
        "            y=df_taitan.Fare[df_taitan.Survived==1], marker='^')\n",
        "plt.legend(['Died', 'Survived'])\n",
        "plt.xlabel('Age')\n",
        "plt.ylabel('Fare')\n",
        "plt.show()"
      ],
      "metadata": {
        "colab": {
          "base_uri": "https://localhost:8080/",
          "height": 279
        },
        "id": "AfJkSyc4rBBQ",
        "outputId": "c82341c1-e5a7-4927-c9c1-ba4d5d8d5889"
      },
      "execution_count": 52,
      "outputs": [
        {
          "output_type": "display_data",
          "data": {
            "text/plain": [
              "<Figure size 432x288 with 1 Axes>"
            ],
            "image/png": "[encoded data removed]"
          },
          "metadata": {
            "needs_background": "light"
          }
        }
      ]
    },
    {
      "cell_type": "code",
      "source": [
        "# 将两个类别型变量转化为哑变量\n",
        "a = pd.get_dummies(df_taitan['Sex'], prefix='Sex')\n",
        "b = pd.get_dummies(df_taitan['Embarked'], prefix='Embarked')\n",
        "# 将哑变量添加进dataframe\n",
        "frames = [df_taitan, a, b]\n",
        "df_taitan = pd.concat(frames, axis=1)\n",
        "df_taitan = df_taitan.drop(columns=['Sex', 'Embarked'])\n",
        "df_taitan.head()"
      ],
      "metadata": {
        "colab": {
          "base_uri": "https://localhost:8080/",
          "height": 250
        },
        "id": "QvUIjlVFwaxV",
        "outputId": "324514ca-d8cd-475d-8ebb-67e32ef80719"
      },
      "execution_count": 54,
      "outputs": [
        {
          "output_type": "execute_result",
          "data": {
            "text/plain": [
              "   PassengerId  Survived  Pclass  \\\n",
              "0            1         0       3   \n",
              "1            2         1       1   \n",
              "2            3         1       3   \n",
              "3            4         1       1   \n",
              "4            5         0       3   \n",
              "\n",
              "                                                Name   Age  SibSp  Parch  \\\n",
              "0                            Braund, Mr. Owen Harris  22.0      1      0   \n",
              "1  Cumings, Mrs. John Bradley (Florence Briggs Th...  38.0      1      0   \n",
              "2                             Heikkinen, Miss. Laina  26.0      0      0   \n",
              "3       Futrelle, Mrs. Jacques Heath (Lily May Peel)  35.0      1      0   \n",
              "4                           Allen, Mr. William Henry  35.0      0      0   \n",
              "\n",
              "             Ticket     Fare Cabin  Sex_female  Sex_male  Embarked_C  \\\n",
              "0         A/5 21171   7.2500   NaN           0         1           0   \n",
              "1          PC 17599  71.2833   C85           1         0           1   \n",
              "2  STON/O2. 3101282   7.9250   NaN           1         0           0   \n",
              "3            113803  53.1000  C123           1         0           0   \n",
              "4            373450   8.0500   NaN           0         1           0   \n",
              "\n",
              "   Embarked_Q  Embarked_S  \n",
              "0           0           1  \n",
              "1           0           0  \n",
              "2           0           1  \n",
              "3           0           1  \n",
              "4           0           1  "
            ],
            "text/html": [
              "\n",
              "  <div id=\"df-4e402385-6938-4291-b913-0a5874675730\">\n",
              "    <div class=\"colab-df-container\">\n",
              "      <div>\n",
              "<style scoped>\n",
              "    .dataframe tbody tr th:only-of-type {\n",
              "        vertical-align: middle;\n",
              "    }\n",
              "\n",
              "    .dataframe tbody tr th {\n",
              "        vertical-align: top;\n",
              "    }\n",
              "\n",
              "    .dataframe thead th {\n",
              "        text-align: right;\n",
              "    }\n",
              "</style>\n",
              "<table border=\"1\" class=\"dataframe\">\n",
              "  <thead>\n",
              "    <tr style=\"text-align: right;\">\n",
              "      <th></th>\n",
              "      <th>PassengerId</th>\n",
              "      <th>Survived</th>\n",
              "      <th>Pclass</th>\n",
              "      <th>Name</th>\n",
              "      <th>Age</th>\n",
              "      <th>SibSp</th>\n",
              "      <th>Parch</th>\n",
              "      <th>Ticket</th>\n",
              "      <th>Fare</th>\n",
              "      <th>Cabin</th>\n",
              "      <th>Sex_female</th>\n",
              "      <th>Sex_male</th>\n",
              "      <th>Embarked_C</th>\n",
              "      <th>Embarked_Q</th>\n",
              "      <th>Embarked_S</th>\n",
              "    </tr>\n",
              "  </thead>\n",
              "  <tbody>\n",
              "    <tr>\n",
              "      <th>0</th>\n",
              "      <td>1</td>\n",
              "      <td>0</td>\n",
              "      <td>3</td>\n",
              "      <td>Braund, Mr. Owen Harris</td>\n",
              "      <td>22.0</td>\n",
              "      <td>1</td>\n",
              "      <td>0</td>\n",
              "      <td>A/5 21171</td>\n",
              "      <td>7.2500</td>\n",
              "      <td>NaN</td>\n",
              "      <td>0</td>\n",
              "      <td>1</td>\n",
              "      <td>0</td>\n",
              "      <td>0</td>\n",
              "      <td>1</td>\n",
              "    </tr>\n",
              "    <tr>\n",
              "      <th>1</th>\n",
              "      <td>2</td>\n",
              "      <td>1</td>\n",
              "      <td>1</td>\n",
              "      <td>Cumings, Mrs. John Bradley (Florence Briggs Th...</td>\n",
              "      <td>38.0</td>\n",
              "      <td>1</td>\n",
              "      <td>0</td>\n",
              "      <td>PC 17599</td>\n",
              "      <td>71.2833</td>\n",
              "      <td>C85</td>\n",
              "      <td>1</td>\n",
              "      <td>0</td>\n",
              "      <td>1</td>\n",
              "      <td>0</td>\n",
              "      <td>0</td>\n",
              "    </tr>\n",
              "    <tr>\n",
              "      <th>2</th>\n",
              "      <td>3</td>\n",
              "      <td>1</td>\n",
              "      <td>3</td>\n",
              "      <td>Heikkinen, Miss. Laina</td>\n",
              "      <td>26.0</td>\n",
              "      <td>0</td>\n",
              "      <td>0</td>\n",
              "      <td>STON/O2. 3101282</td>\n",
              "      <td>7.9250</td>\n",
              "      <td>NaN</td>\n",
              "      <td>1</td>\n",
              "      <td>0</td>\n",
              "      <td>0</td>\n",
              "      <td>0</td>\n",
              "      <td>1</td>\n",
              "    </tr>\n",
              "    <tr>\n",
              "      <th>3</th>\n",
              "      <td>4</td>\n",
              "      <td>1</td>\n",
              "      <td>1</td>\n",
              "      <td>Futrelle, Mrs. Jacques Heath (Lily May Peel)</td>\n",
              "      <td>35.0</td>\n",
              "      <td>1</td>\n",
              "      <td>0</td>\n",
              "      <td>113803</td>\n",
              "      <td>53.1000</td>\n",
              "      <td>C123</td>\n",
              "      <td>1</td>\n",
              "      <td>0</td>\n",
              "      <td>0</td>\n",
              "      <td>0</td>\n",
              "      <td>1</td>\n",
              "    </tr>\n",
              "    <tr>\n",
              "      <th>4</th>\n",
              "      <td>5</td>\n",
              "      <td>0</td>\n",
              "      <td>3</td>\n",
              "      <td>Allen, Mr. William Henry</td>\n",
              "      <td>35.0</td>\n",
              "      <td>0</td>\n",
              "      <td>0</td>\n",
              "      <td>373450</td>\n",
              "      <td>8.0500</td>\n",
              "      <td>NaN</td>\n",
              "      <td>0</td>\n",
              "      <td>1</td>\n",
              "      <td>0</td>\n",
              "      <td>0</td>\n",
              "      <td>1</td>\n",
              "    </tr>\n",
              "  </tbody>\n",
              "</table>\n",
              "</div>\n",
              "      <button class=\"colab-df-convert\" onclick=\"convertToInteractive('df-4e402385-6938-4291-b913-0a5874675730')\"\n",
              "              title=\"Convert this dataframe to an interactive table.\"\n",
              "              style=\"display:none;\">\n",
              "        \n",
              "  <svg xmlns=\"http://www.w3.org/2000/svg\" height=\"24px\"viewBox=\"0 0 24 24\"\n",
              "       width=\"24px\">\n",
              "    <path d=\"M0 0h24v24H0V0z\" fill=\"none\"/>\n",
              "    <path d=\"M18.56 5.44l.94 2.06.94-2.06 2.06-.94-2.06-.94-.94-2.06-.94 2.06-2.06.94zm-11 1L8.5 8.5l.94-2.06 2.06-.94-2.06-.94L8.5 2.5l-.94 2.06-2.06.94zm10 10l.94 2.06.94-2.06 2.06-.94-2.06-.94-.94-2.06-.94 2.06-2.06.94z\"/><path d=\"M17.41 7.96l-1.37-1.37c-.4-.4-.92-.59-1.43-.59-.52 0-1.04.2-1.43.59L10.3 9.45l-7.72 7.72c-.78.78-.78 2.05 0 2.83L4 21.41c.39.39.9.59 1.41.59.51 0 1.02-.2 1.41-.59l7.78-7.78 2.81-2.81c.8-.78.8-2.07 0-2.86zM5.41 20L4 18.59l7.72-7.72 1.47 1.35L5.41 20z\"/>\n",
              "  </svg>\n",
              "      </button>\n",
              "      \n",
              "  <style>\n",
              "    .colab-df-container {\n",
              "      display:flex;\n",
              "      flex-wrap:wrap;\n",
              "      gap: 12px;\n",
              "    }\n",
              "\n",
              "    .colab-df-convert {\n",
              "      background-color: #E8F0FE;\n",
              "      border: none;\n",
              "      border-radius: 50%;\n",
              "      cursor: pointer;\n",
              "      display: none;\n",
              "      fill: #1967D2;\n",
              "      height: 32px;\n",
              "      padding: 0 0 0 0;\n",
              "      width: 32px;\n",
              "    }\n",
              "\n",
              "    .colab-df-convert:hover {\n",
              "      background-color: #E2EBFA;\n",
              "      box-shadow: 0px 1px 2px rgba(60, 64, 67, 0.3), 0px 1px 3px 1px rgba(60, 64, 67, 0.15);\n",
              "      fill: #174EA6;\n",
              "    }\n",
              "\n",
              "    [theme=dark] .colab-df-convert {\n",
              "      background-color: #3B4455;\n",
              "      fill: #D2E3FC;\n",
              "    }\n",
              "\n",
              "    [theme=dark] .colab-df-convert:hover {\n",
              "      background-color: #434B5C;\n",
              "      box-shadow: 0px 1px 3px 1px rgba(0, 0, 0, 0.15);\n",
              "      filter: drop-shadow(0px 1px 2px rgba(0, 0, 0, 0.3));\n",
              "      fill: #FFFFFF;\n",
              "    }\n",
              "  </style>\n",
              "\n",
              "      <script>\n",
              "        const buttonEl =\n",
              "          document.querySelector('#df-4e402385-6938-4291-b913-0a5874675730 button.colab-df-convert');\n",
              "        buttonEl.style.display =\n",
              "          google.colab.kernel.accessAllowed ? 'block' : 'none';\n",
              "\n",
              "        async function convertToInteractive(key) {\n",
              "          const element = document.querySelector('#df-4e402385-6938-4291-b913-0a5874675730');\n",
              "          const dataTable =\n",
              "            await google.colab.kernel.invokeFunction('convertToInteractive',\n",
              "                                                     [key], {});\n",
              "          if (!dataTable) return;\n",
              "\n",
              "          const docLinkHtml = 'Like what you see? Visit the ' +\n",
              "            '<a target=\"_blank\" href=https://colab.research.google.com/notebooks/data_table.ipynb>data table notebook</a>'\n",
              "            + ' to learn more about interactive tables.';\n",
              "          element.innerHTML = '';\n",
              "          dataTable['output_type'] = 'display_data';\n",
              "          await google.colab.output.renderOutput(dataTable, element);\n",
              "          const docLink = document.createElement('div');\n",
              "          docLink.innerHTML = docLinkHtml;\n",
              "          element.appendChild(docLink);\n",
              "        }\n",
              "      </script>\n",
              "    </div>\n",
              "  </div>\n",
              "  "
            ]
          },
          "metadata": {},
          "execution_count": 54
        }
      ]
    },
    {
      "cell_type": "code",
      "source": [
        "X = df_taitan.drop(['PassengerId', 'Survived', 'Name', 'Ticket', 'Cabin'], axis=1)\n",
        "y = df_taitan.Survived.values\n",
        "y = y.reshape(-1, 1)\n",
        "print('张量X的形状：', X.shape)\n",
        "print('张量y的形状：', y.shape)"
      ],
      "metadata": {
        "colab": {
          "base_uri": "https://localhost:8080/"
        },
        "id": "zfT9OfW8svJ4",
        "outputId": "eb5ae779-037d-4c20-8628-161f3084c753"
      },
      "execution_count": 56,
      "outputs": [
        {
          "output_type": "stream",
          "name": "stdout",
          "text": [
            "张量X的形状： (891, 10)\n",
            "张量y的形状： (891, 1)\n"
          ]
        }
      ]
    },
    {
      "cell_type": "code",
      "source": [
        "from sklearn.model_selection import train_test_split\n",
        "X_train, X_test, y_train, y_test = train_test_split(X, y, test_size=0.2, random_state=666)"
      ],
      "metadata": {
        "id": "tdVwdDyB0k3w"
      },
      "execution_count": 57,
      "outputs": []
    },
    {
      "cell_type": "code",
      "source": [
        "from sklearn.preprocessing import StandardScaler\n",
        "scaler = StandardScaler()\n",
        "X_train = scaler.fit_transform(X_train)\n",
        "X_test = scaler.transform(X_test)"
      ],
      "metadata": {
        "id": "R63RJuRL1lIN"
      },
      "execution_count": 58,
      "outputs": []
    },
    {
      "cell_type": "code",
      "source": [
        "from sklearn.linear_model import LinearRegression\n",
        "lr = LinearRegression()\n",
        "lr.fit(X_train, y_train)\n",
        "print('SK泰坦尼克号逻辑回归准确率：{:.2f}%'.format(lr.score(X_test, y_test) * 100))"
      ],
      "metadata": {
        "colab": {
          "base_uri": "https://localhost:8080/"
        },
        "id": "_8y9dS9d2ejj",
        "outputId": "b34e299c-ef37-4c27-a993-59e379c0b73d"
      },
      "execution_count": 62,
      "outputs": [
        {
          "output_type": "stream",
          "name": "stdout",
          "text": [
            "SK泰坦尼克号逻辑回归准确率：40.42%\n"
          ]
        }
      ]
    },
    {
      "cell_type": "code",
      "source": [
        "# 首先定义一个sigmoid函数，输入Z，返回y'\n",
        "def sigmoid(z):    \n",
        "    y_hat = 1/(1+ np.exp(-z))\n",
        "    return y_hat"
      ],
      "metadata": {
        "id": "FDrZp2923UCp"
      },
      "execution_count": 63,
      "outputs": []
    },
    {
      "cell_type": "code",
      "source": [
        "# 然后定义损失函数\n",
        "def cost_function(X,y,w,b):\n",
        "    y_hat = sigmoid(np.dot(X,w) + b) # Sigmoid逻辑函数 + 线性函数（wX+b）得到y'\n",
        "#     print (X.shape,w.shape)\n",
        "    loss = np.abs((y*np.log(y_hat) + (1-y)*np.log(1-y_hat))) # 计算损失\n",
        "#     cost = np.sum(loss) / X.shape[0]  # 返回整个数据集平均损失  \n",
        "    cost = np.mean(loss) # 返回整个数据集平均损失\n",
        "    return cost"
      ],
      "metadata": {
        "id": "fqd739Vy4Ihb"
      },
      "execution_count": 64,
      "outputs": []
    },
    {
      "cell_type": "code",
      "source": [
        "def gradient_descent(X,y,w,b,lr,iter) : #定义逻辑回归梯度下降函数\n",
        "    l_history = np.zeros(iter) # 初始化记录梯度下降过程中误差值(损失)的数组\n",
        "    w_history = np.zeros((iter,w.shape[0],w.shape[1])) # 初始化权重记录的数组\n",
        "    b_history = np.zeros(iter) # 初始化记录梯度下降过程中偏置的数组  \n",
        "    for i in range(iter): #进行机器训练的迭代\n",
        "        y_hat = sigmoid(np.dot(X,w) + b) #Sigmoid逻辑函数+线性函数(wX+b)得到y'\n",
        "        loss = (y*np.log(y_hat) + (1-y)*np.log(1-y_hat))\n",
        "        derivative_w = np.dot(X.T,((y_hat-y)))/X.shape[0]  # 给权重向量求导\n",
        "        derivative_b = np.sum(y_hat-y)/X.shape[0] # 给偏置求导\n",
        "        w = w - lr * derivative_w # 更新权重向量，lr即学习速率alpha\n",
        "        b = b - lr * derivative_b   # 更新偏置，lr即学习速率alpha\n",
        "        l_history[i] =  cost_function(X,y,w,b) # 梯度下降过程中的损失\n",
        "        print (\"轮次\", i+1 , \"当前轮训练集损失：\",l_history[i])        \n",
        "        w_history[i] = w # 梯度下降过程中权重的历史 请注意w_history和w的形状\n",
        "        b_history[i] = b # 梯度下降过程中偏置的历史\n",
        "    return l_history, w_history, b_history"
      ],
      "metadata": {
        "id": "-KK6QSxb4L4L"
      },
      "execution_count": 65,
      "outputs": []
    },
    {
      "cell_type": "code",
      "source": [
        "def predict(X,w,b): # 定义预测函数\n",
        "    z = np.dot(X,w) + b # 线性函数\n",
        "    y_hat = sigmoid(z) # 逻辑函数转换\n",
        "    y_pred = np.zeros((y_hat.shape[0],1)) # 初始化预测结果变量    \n",
        "    for i in range(y_hat.shape[0]):\n",
        "        if y_hat[i,0] < 0.5:\n",
        "            y_pred[i,0] = 0 # 如果预测概率小于0.5，输出分类0\n",
        "        else:\n",
        "            y_pred[i,0] = 1 # 如果预测概率大于0.5，输出分类0\n",
        "    return y_pred # 返回预测分类的结果"
      ],
      "metadata": {
        "id": "TPuQwLZS4O1H"
      },
      "execution_count": 66,
      "outputs": []
    },
    {
      "cell_type": "code",
      "source": [
        "def logistic_regression(X,y,w,b,lr,iter): # 定义逻辑回归模型\n",
        "    l_history,w_history,b_history = gradient_descent(X,y,w,b,lr,iter)#梯度下降\n",
        "    print(\"训练最终损失:\", l_history[-1]) # 打印最终损失\n",
        "    y_pred = predict(X,w_history[-1],b_history[-1]) # 进行预测\n",
        "    traning_acc = 100 - np.mean(np.abs(y_pred - y_train))*100 # 计算准确率\n",
        "    print(\"逻辑回归训练准确率: {:.2f}%\".format(traning_acc))  # 打印准确率\n",
        "    return l_history, w_history, b_history # 返回训练历史记录"
      ],
      "metadata": {
        "id": "WT54eIlw4SB6"
      },
      "execution_count": 67,
      "outputs": []
    },
    {
      "cell_type": "code",
      "source": [
        "#初始化参数\n",
        "dimension = X.shape[1] # 这里的维度 len(X)是矩阵的行的数，维度是列的数目\n",
        "weight = np.full((dimension,1),0.1) # 权重向量，向量一般是1D，但这里实际上创建了2D张量\n",
        "bias = 0 # 偏置值\n",
        "#初始化超参数\n",
        "alpha = 1 # 学习速率\n",
        "iterations = 100 # 迭代次数"
      ],
      "metadata": {
        "id": "VO9qjvEA4UeM"
      },
      "execution_count": 68,
      "outputs": []
    },
    {
      "cell_type": "code",
      "source": [
        "# 用逻辑回归函数训练机器\n",
        "loss_history, weight_history, bias_history = logistic_regression(X_train,y_train,\n",
        "                                                                 weight,bias,                                                                 \n",
        "                                                                 alpha,iterations)"
      ],
      "metadata": {
        "colab": {
          "base_uri": "https://localhost:8080/"
        },
        "id": "a7Eg81XE4W7-",
        "outputId": "1ca6b0f0-860d-4274-d4b1-d8c90524598d"
      },
      "execution_count": 69,
      "outputs": [
        {
          "output_type": "stream",
          "name": "stdout",
          "text": [
            "轮次 1 当前轮训练集损失： 0.553958268310138\n",
            "轮次 2 当前轮训练集损失： 0.5110485390168203\n",
            "轮次 3 当前轮训练集损失： 0.4916814894355861\n",
            "轮次 4 当前轮训练集损失： 0.4808582069807635\n",
            "轮次 5 当前轮训练集损失： 0.47402823762401575\n",
            "轮次 6 当前轮训练集损失： 0.4693881144962238\n",
            "轮次 7 当前轮训练集损失： 0.4660809344061831\n",
            "轮次 8 当前轮训练集损失： 0.46364296459291116\n",
            "轮次 9 当前轮训练集损失： 0.46179916083636846\n",
            "轮次 10 当前轮训练集损失： 0.46037565088902094\n",
            "轮次 11 当前轮训练集损失： 0.45925742961499544\n",
            "轮次 12 当前轮训练集损失： 0.4583658254355591\n",
            "轮次 13 当前轮训练集损失： 0.4576455798780062\n",
            "轮次 14 当前轮训练集损失： 0.4570570226580799\n",
            "轮次 15 当前轮训练集损失： 0.45657113481529515\n",
            "轮次 16 当前轮训练集损失： 0.45616633412101754\n",
            "轮次 17 当前轮训练集损失： 0.4558263282282342\n",
            "轮次 18 当前轮训练集损失： 0.45553865023681217\n",
            "轮次 19 当前轮训练集损失： 0.4552936413034305\n",
            "轮次 20 当前轮训练集损失： 0.4550837322393587\n",
            "轮次 21 当前轮训练集损失： 0.45490292869570537\n",
            "轮次 22 当前轮训练集损失： 0.4547464372041947\n",
            "轮次 23 当前轮训练集损失： 0.45461039009030274\n",
            "轮次 24 当前轮训练集损失： 0.45449164071884895\n",
            "轮次 25 当前轮训练集损失： 0.4543876093942436\n",
            "轮次 26 当前轮训练集损失： 0.45429616617014934\n",
            "轮次 27 当前轮训练集损失： 0.4542155408502858\n",
            "轮次 28 当前轮训练集损失： 0.454144253230598\n",
            "轮次 29 当前轮训练集损失： 0.4540810585589698\n",
            "轮次 30 当前轮训练集损失： 0.4540249045434431\n",
            "轮次 31 当前轮训练集损失： 0.45397489720295875\n",
            "轮次 32 当前轮训练集损失： 0.45393027354612353\n",
            "轮次 33 当前轮训练集损失： 0.45389037956477624\n",
            "轮次 34 当前轮训练集损失： 0.4538546523958697\n",
            "轮次 35 当前轮训练集损失： 0.45382260577589983\n",
            "轮次 36 当前轮训练集损失： 0.4537938181136452\n",
            "轮次 37 当前轮训练集损失： 0.45376792265827115\n",
            "轮次 38 当前轮训练集损失： 0.453744599354307\n",
            "轮次 39 当前轮训练集损失： 0.45372356806228326\n",
            "轮次 40 当前轮训练集损失： 0.45370458289082544\n",
            "轮次 41 当前轮训练集损失： 0.453687427437845\n",
            "轮次 42 当前轮训练集损失： 0.4536719107788142\n",
            "轮次 43 当前轮训练集损失： 0.45365786407173514\n",
            "轮次 44 当前轮训练集损失： 0.4536451376733301\n",
            "轮次 45 当前轮训练集损失： 0.4536335986807389\n",
            "轮次 46 当前轮训练集损失： 0.4536231288287511\n",
            "轮次 47 当前轮训练集损失： 0.45361362268521\n",
            "轮次 48 当前轮训练集损失： 0.4536049860973797\n",
            "轮次 49 当前轮训练集损失： 0.4535971348502651\n",
            "轮次 50 当前轮训练集损失： 0.4535899935045412\n",
            "轮次 51 当前轮训练集损失： 0.4535834943871753\n",
            "轮次 52 当前轮训练集损失： 0.45357757671226745\n",
            "轮次 53 当前轮训练集损失： 0.4535721858132869\n",
            "轮次 54 当前轮训练集损失： 0.4535672724708818\n",
            "轮次 55 当前轮训练集损失： 0.4535627923229305\n",
            "轮次 56 当前轮训练集损失： 0.45355870534555937\n",
            "轮次 57 当前轮训练集损失： 0.4535549753955679\n",
            "轮次 58 当前轮训练集损失： 0.4535515698061325\n",
            "轮次 59 当前轮训练集损失： 0.4535484590288551\n",
            "轮次 60 当前轮训练集损失： 0.4535456163162289\n",
            "轮次 61 当前轮训练集损失： 0.45354301743943676\n",
            "轮次 62 当前轮训练集损失： 0.45354064043710923\n",
            "轮次 63 当前轮训练集损失： 0.4535384653912778\n",
            "轮次 64 当前轮训练集损失： 0.4535364742272601\n",
            "轮次 65 当前轮训练集损失： 0.45353465053466047\n",
            "轮次 66 当前轮训练集损失： 0.4535329794070285\n",
            "轮次 67 当前轮训练集损失： 0.45353144729804545\n",
            "轮次 68 当前轮训练集损失： 0.4535300418923709\n",
            "轮次 69 当前轮训练集损失： 0.4535287519895214\n",
            "轮次 70 当前轮训练集损失： 0.453527567399352\n",
            "轮次 71 当前轮训练集损失： 0.4535264788478828\n",
            "轮次 72 当前轮训练集损失： 0.45352547789236475\n",
            "轮次 73 当前轮训练集损失： 0.45352455684461224\n",
            "轮次 74 当前轮训练集损失： 0.45352370870173436\n",
            "轮次 75 当前轮训练集损失： 0.4535229270835042\n",
            "轮次 76 当前轮训练集损失： 0.453522206175689\n",
            "轮次 77 当前轮训练集损失： 0.4535215406787356\n",
            "轮次 78 当前轮训练集损失： 0.4535209257612767\n",
            "轮次 79 当前轮训练集损失： 0.4535203570179811\n",
            "轮次 80 当前轮训练集损失： 0.4535198304313166\n",
            "轮次 81 当前轮训练集损失： 0.45351934233684893\n",
            "轮次 82 当前轮训练集损失： 0.45351888939173046\n",
            "轮次 83 当前轮训练集损失： 0.45351846854607425\n",
            "轮次 84 当前轮训练集损失： 0.45351807701693886\n",
            "轮次 85 当前轮训练集损失： 0.4535177122646746\n",
            "轮次 86 当前轮训练集损失： 0.45351737197140984\n",
            "轮次 87 当前轮训练集损失： 0.4535170540214781\n",
            "轮次 88 当前轮训练集损失： 0.4535167564836034\n",
            "轮次 89 当前轮训练集损失： 0.45351647759468194\n",
            "轮次 90 当前轮训练集损失： 0.4535162157450133\n",
            "轮次 91 当前轮训练集损失： 0.4535159694648476\n",
            "轮次 92 当前轮训练集损失： 0.4535157374121291\n",
            "轮次 93 当前轮训练集损失： 0.4535155183613257\n",
            "轮次 94 当前轮训练集损失： 0.45351531119324906\n",
            "轮次 95 当前轮训练集损失： 0.4535151148857723\n",
            "轮次 96 当前轮训练集损失： 0.45351492850536707\n",
            "轮次 97 当前轮训练集损失： 0.45351475119938517\n",
            "轮次 98 当前轮训练集损失： 0.4535145821890189\n",
            "轮次 99 当前轮训练集损失： 0.453514420762879\n",
            "轮次 100 当前轮训练集损失： 0.4535142662711351\n",
            "训练最终损失: 0.4535142662711351\n",
            "逻辑回归训练准确率: 80.06%\n"
          ]
        }
      ]
    },
    {
      "cell_type": "code",
      "source": [
        "y_pred = predict(X_test,weight_history[-1],bias_history[-1]) # 预测测试集\n",
        "testing_acc = 100 - np.mean(np.abs(y_pred - y_test))*100 # 计算准确率\n",
        "print(\"逻辑回归测试准确率: {:.2f}%\".format(testing_acc))"
      ],
      "metadata": {
        "colab": {
          "base_uri": "https://localhost:8080/"
        },
        "id": "u12xhsbS4Z94",
        "outputId": "d49cf189-9c43-4fb9-ca43-0c371bf3a86f"
      },
      "execution_count": 70,
      "outputs": [
        {
          "output_type": "stream",
          "name": "stdout",
          "text": [
            "逻辑回归测试准确率: 78.21%\n"
          ]
        }
      ]
    },
    {
      "cell_type": "code",
      "source": [
        "import matplotlib.pyplot as plt # 导入绘图工具\n",
        "loss_history_test = np.zeros(iterations) # 初始化历史损失\n",
        "for i in range(iterations): #求训练过程中不同参数带来的测试集损失\n",
        "    loss_history_test[i] = cost_function(X_test,y_test,weight_history[i],bias_history[i])\n",
        "index = np.arange(0,iterations,1)\n",
        "plt.plot(index,loss_history,c='blue',linestyle='solid')\n",
        "plt.plot(index,loss_history_test,c='red',linestyle='dashed')\n",
        "plt.legend([\"Training Loss\", \"Test Loss\"])\n",
        "plt.xlabel(\"Number of Iteration\")\n",
        "plt.ylabel(\"Cost\")\n",
        "plt.show() # 同时显示显示训练集和测试集损失曲线"
      ],
      "metadata": {
        "colab": {
          "base_uri": "https://localhost:8080/",
          "height": 279
        },
        "id": "dwmbfCTC4fqv",
        "outputId": "bffa9e59-a23c-4429-d9a9-d7cbbc21242e"
      },
      "execution_count": 71,
      "outputs": [
        {
          "output_type": "display_data",
          "data": {
            "text/plain": [
              "<Figure size 432x288 with 1 Axes>"
            ],
            "image/png": "[encoded data removed]"
          },
          "metadata": {
            "needs_background": "light"
          }
        }
      ]
    },
    {
      "cell_type": "markdown",
      "source": [
        "练习二"
      ],
      "metadata": {
        "id": "8aY5mhpE5ork"
      }
    },
    {
      "cell_type": "code",
      "source": [
        "import numpy as np\n",
        "import pandas as pd\n",
        "from sklearn import datasets\n",
        "iris = datasets.load_iris()\n",
        "X_sepal = iris.data[:, [0, 1]]\n",
        "X_petal = iris.data[:, [2, 3]]\n",
        "y = iris.target"
      ],
      "metadata": {
        "id": "wxIRu6v45sUW"
      },
      "execution_count": 72,
      "outputs": []
    },
    {
      "cell_type": "code",
      "source": [
        "from sklearn.model_selection import train_test_split\n",
        "from sklearn.preprocessing import StandardScaler\n",
        "\n",
        "X_train_petal, X_test_petal, y_train_petal, y_test_petal = train_test_split(X_petal, y,\n",
        "                                                                            test_size=0.3, random_state=0)\n",
        "print('花瓣训练集样本数：', len(X_train_petal))\n",
        "print('花瓣测试集样本数：', len(X_test_petal))\n",
        "scaler = StandardScaler()\n",
        "X_train_petal = scaler.fit_transform(X_train_petal)\n",
        "X_test_petal = scaler.transform(X_test_petal)\n",
        "\n",
        "X_combined_petal = np.vstack((X_train_petal, X_test_petal))\n",
        "Y_combined_petal = np.hstack((y_train_petal, y_test_petal))"
      ],
      "metadata": {
        "colab": {
          "base_uri": "https://localhost:8080/"
        },
        "id": "QzBcEBc_6szv",
        "outputId": "b108eefe-f526-421d-b332-359a1180b1d1"
      },
      "execution_count": 73,
      "outputs": [
        {
          "output_type": "stream",
          "name": "stdout",
          "text": [
            "花瓣训练集样本数： 105\n",
            "花瓣测试集样本数： 45\n"
          ]
        }
      ]
    },
    {
      "cell_type": "code",
      "source": [
        "from sklearn.linear_model import LogisticRegression\n",
        "\n",
        "lr = LogisticRegression(penalty='l2', C=0.1)\n",
        "lr.fit(X_train_petal, y_train_petal)\n",
        "score = lr.score(X_test_petal, y_test_petal)\n",
        "print('SK逻辑回归准确率：{:.2f}%'.format(score*100))"
      ],
      "metadata": {
        "colab": {
          "base_uri": "https://localhost:8080/"
        },
        "id": "uaIwAteD74gd",
        "outputId": "19b690da-1dca-4d93-aa6f-2aa7607481f5"
      },
      "execution_count": 74,
      "outputs": [
        {
          "output_type": "stream",
          "name": "stdout",
          "text": [
            "SK逻辑回归准确率：95.56%\n"
          ]
        }
      ]
    },
    {
      "cell_type": "code",
      "source": [
        "import matplotlib.pyplot as plt # 导入matplotlib\n",
        "from matplotlib.colors import ListedColormap # 导入Colormap\n",
        "def plot_decision_regions(X,y,classifier,test_idx=None,resolution=0.02):    \n",
        "    markers = ('o','x','v')\n",
        "    colors = ('red','blue','lightgreen')\n",
        "    color_Map = ListedColormap(colors[:len(np.unique(y))])     \n",
        "    x1_min = X[:,0].min() - 1\n",
        "    x1_max = X[:,0].max() + 1\n",
        "    x2_min = X[:,1].min() - 1\n",
        "    x2_max = X[:,1].max() + 1\n",
        "    xx1, xx2 = np.meshgrid(np.arange(x1_min,x1_max,resolution),\n",
        "                           np.arange(x2_min,x2_max,resolution))    \n",
        "    Z = classifier.predict(np.array([xx1.ravel(),xx2.ravel()]).T)\n",
        "    Z = Z.reshape(xx1.shape)    \n",
        "    plt.contour(xx1,xx2,Z,alpha=0.4,cmap = color_Map)\n",
        "    plt.xlim(xx1.min(),xx1.max())\n",
        "    plt.ylim(xx2.min(),xx2.max())   \n",
        "    X_test, Y_test = X[test_idx,:], y[test_idx]\n",
        "    for idx, cl in enumerate(np.unique(y)):\n",
        "        plt.scatter(x = X[y == cl, 0], y = X[y == cl, 1],\n",
        "                    alpha = 0.8, c = color_Map(idx),\n",
        "                    marker = markers[idx], label = cl)"
      ],
      "metadata": {
        "id": "1eDsNobO8JPI"
      },
      "execution_count": 75,
      "outputs": []
    },
    {
      "cell_type": "code",
      "source": [
        "from sklearn.metrics import accuracy_score # 导入准确率指标\n",
        "C_param_range = [0.01,0.1,1,10,100,1000]\n",
        "petal_acc_table = pd.DataFrame(columns = ['C_parameter','Accuracy'])\n",
        "petal_acc_table['C_parameter'] = C_param_range\n",
        "plt.figure(figsize=(10, 10))\n",
        "j = 0\n",
        "for i in C_param_range:\n",
        "    lr = LogisticRegression(penalty = 'l2', C = i,random_state = 0)\n",
        "    lr.fit(X_train_petal,y_train_petal)\n",
        "    y_pred_petal = lr.predict(X_test_petal)\n",
        "    petal_acc_table.iloc[j,1] = accuracy_score(y_test_petal,y_pred_petal)\n",
        "    j += 1    \n",
        "    plt.subplot(3,2,j)\n",
        "    plt.subplots_adjust(hspace = 0.4)\n",
        "    plot_decision_regions(X = X_combined_petal, y = Y_combined_petal, \n",
        "                          classifier = lr, test_idx = range(0,150))\n",
        "    plt.xlabel('Petal length')\n",
        "    plt.ylabel('Petal width')\n",
        "    plt.title('C = %s'%i)"
      ],
      "metadata": {
        "colab": {
          "base_uri": "https://localhost:8080/",
          "height": 953
        },
        "id": "5k76WG8G8ZoJ",
        "outputId": "944ee8ff-e36d-4d71-97f7-8459a573fca7"
      },
      "execution_count": 76,
      "outputs": [
        {
          "output_type": "stream",
          "name": "stderr",
          "text": [
            "WARNING:matplotlib.axes._axes:*c* argument looks like a single numeric RGB or RGBA sequence, which should be avoided as value-mapping will have precedence in case its length matches with *x* & *y*.  Please use the *color* keyword-argument or provide a 2-D array with a single row if you intend to specify the same RGB or RGBA value for all points.\n",
            "WARNING:matplotlib.axes._axes:*c* argument looks like a single numeric RGB or RGBA sequence, which should be avoided as value-mapping will have precedence in case its length matches with *x* & *y*.  Please use the *color* keyword-argument or provide a 2-D array with a single row if you intend to specify the same RGB or RGBA value for all points.\n",
            "WARNING:matplotlib.axes._axes:*c* argument looks like a single numeric RGB or RGBA sequence, which should be avoided as value-mapping will have precedence in case its length matches with *x* & *y*.  Please use the *color* keyword-argument or provide a 2-D array with a single row if you intend to specify the same RGB or RGBA value for all points.\n",
            "WARNING:matplotlib.axes._axes:*c* argument looks like a single numeric RGB or RGBA sequence, which should be avoided as value-mapping will have precedence in case its length matches with *x* & *y*.  Please use the *color* keyword-argument or provide a 2-D array with a single row if you intend to specify the same RGB or RGBA value for all points.\n",
            "WARNING:matplotlib.axes._axes:*c* argument looks like a single numeric RGB or RGBA sequence, which should be avoided as value-mapping will have precedence in case its length matches with *x* & *y*.  Please use the *color* keyword-argument or provide a 2-D array with a single row if you intend to specify the same RGB or RGBA value for all points.\n",
            "WARNING:matplotlib.axes._axes:*c* argument looks like a single numeric RGB or RGBA sequence, which should be avoided as value-mapping will have precedence in case its length matches with *x* & *y*.  Please use the *color* keyword-argument or provide a 2-D array with a single row if you intend to specify the same RGB or RGBA value for all points.\n",
            "WARNING:matplotlib.axes._axes:*c* argument looks like a single numeric RGB or RGBA sequence, which should be avoided as value-mapping will have precedence in case its length matches with *x* & *y*.  Please use the *color* keyword-argument or provide a 2-D array with a single row if you intend to specify the same RGB or RGBA value for all points.\n",
            "WARNING:matplotlib.axes._axes:*c* argument looks like a single numeric RGB or RGBA sequence, which should be avoided as value-mapping will have precedence in case its length matches with *x* & *y*.  Please use the *color* keyword-argument or provide a 2-D array with a single row if you intend to specify the same RGB or RGBA value for all points.\n",
            "WARNING:matplotlib.axes._axes:*c* argument looks like a single numeric RGB or RGBA sequence, which should be avoided as value-mapping will have precedence in case its length matches with *x* & *y*.  Please use the *color* keyword-argument or provide a 2-D array with a single row if you intend to specify the same RGB or RGBA value for all points.\n",
            "WARNING:matplotlib.axes._axes:*c* argument looks like a single numeric RGB or RGBA sequence, which should be avoided as value-mapping will have precedence in case its length matches with *x* & *y*.  Please use the *color* keyword-argument or provide a 2-D array with a single row if you intend to specify the same RGB or RGBA value for all points.\n",
            "WARNING:matplotlib.axes._axes:*c* argument looks like a single numeric RGB or RGBA sequence, which should be avoided as value-mapping will have precedence in case its length matches with *x* & *y*.  Please use the *color* keyword-argument or provide a 2-D array with a single row if you intend to specify the same RGB or RGBA value for all points.\n",
            "WARNING:matplotlib.axes._axes:*c* argument looks like a single numeric RGB or RGBA sequence, which should be avoided as value-mapping will have precedence in case its length matches with *x* & *y*.  Please use the *color* keyword-argument or provide a 2-D array with a single row if you intend to specify the same RGB or RGBA value for all points.\n",
            "WARNING:matplotlib.axes._axes:*c* argument looks like a single numeric RGB or RGBA sequence, which should be avoided as value-mapping will have precedence in case its length matches with *x* & *y*.  Please use the *color* keyword-argument or provide a 2-D array with a single row if you intend to specify the same RGB or RGBA value for all points.\n",
            "WARNING:matplotlib.axes._axes:*c* argument looks like a single numeric RGB or RGBA sequence, which should be avoided as value-mapping will have precedence in case its length matches with *x* & *y*.  Please use the *color* keyword-argument or provide a 2-D array with a single row if you intend to specify the same RGB or RGBA value for all points.\n",
            "WARNING:matplotlib.axes._axes:*c* argument looks like a single numeric RGB or RGBA sequence, which should be avoided as value-mapping will have precedence in case its length matches with *x* & *y*.  Please use the *color* keyword-argument or provide a 2-D array with a single row if you intend to specify the same RGB or RGBA value for all points.\n",
            "WARNING:matplotlib.axes._axes:*c* argument looks like a single numeric RGB or RGBA sequence, which should be avoided as value-mapping will have precedence in case its length matches with *x* & *y*.  Please use the *color* keyword-argument or provide a 2-D array with a single row if you intend to specify the same RGB or RGBA value for all points.\n",
            "WARNING:matplotlib.axes._axes:*c* argument looks like a single numeric RGB or RGBA sequence, which should be avoided as value-mapping will have precedence in case its length matches with *x* & *y*.  Please use the *color* keyword-argument or provide a 2-D array with a single row if you intend to specify the same RGB or RGBA value for all points.\n",
            "WARNING:matplotlib.axes._axes:*c* argument looks like a single numeric RGB or RGBA sequence, which should be avoided as value-mapping will have precedence in case its length matches with *x* & *y*.  Please use the *color* keyword-argument or provide a 2-D array with a single row if you intend to specify the same RGB or RGBA value for all points.\n"
          ]
        },
        {
          "output_type": "display_data",
          "data": {
            "text/plain": [
              "<Figure size 720x720 with 6 Axes>"
            ],
            "image/png": "[encoded data removed]"
          },
          "metadata": {
            "needs_background": "light"
          }
        }
      ]
    },
    {
      "cell_type": "code",
      "source": [
        "lr = LogisticRegression(penalty='l2', C=1)\n",
        "lr.fit(X_train_sepal, y_train_sepal)\n",
        "score = lr.score(X_test_sepal, y_test_sepal)\n",
        "print('SK逻辑回归准确率：{:.2f}%'.format(score*100))"
      ],
      "metadata": {
        "colab": {
          "base_uri": "https://localhost:8080/"
        },
        "id": "0vn7IzHB9En_",
        "outputId": "bf98c101-c9f6-4228-d49b-6eefcc9caf22"
      },
      "execution_count": 77,
      "outputs": [
        {
          "output_type": "stream",
          "name": "stdout",
          "text": [
            "SK逻辑回归准确率：82.22%\n"
          ]
        }
      ]
    },
    {
      "cell_type": "code",
      "source": [
        "lr = LogisticRegression(penalty='l2', C=10)\n",
        "lr.fit(X_train_sepal, y_train_sepal)\n",
        "score = lr.score(X_test_sepal, y_test_sepal)\n",
        "print('SK逻辑回归准确率：{:.2f}%'.format(score*100))"
      ],
      "metadata": {
        "colab": {
          "base_uri": "https://localhost:8080/"
        },
        "id": "PymUGdZr9kTv",
        "outputId": "7a2b6c25-0bfa-4e30-9fee-7e29098f9e58"
      },
      "execution_count": 78,
      "outputs": [
        {
          "output_type": "stream",
          "name": "stdout",
          "text": [
            "SK逻辑回归准确率：80.00%\n"
          ]
        }
      ]
    },
    {
      "cell_type": "code",
      "source": [
        "lr = LogisticRegression(penalty='l2', C=100)\n",
        "lr.fit(X_train_sepal, y_train_sepal)\n",
        "score = lr.score(X_test_sepal, y_test_sepal)\n",
        "print('SK逻辑回归准确率：{:.2f}%'.format(score*100))"
      ],
      "metadata": {
        "colab": {
          "base_uri": "https://localhost:8080/"
        },
        "id": "rLEOH21h9nG7",
        "outputId": "53a48d60-87f2-4eef-c4cd-5d0ecd2d8eaa"
      },
      "execution_count": 79,
      "outputs": [
        {
          "output_type": "stream",
          "name": "stdout",
          "text": [
            "SK逻辑回归准确率：80.00%\n"
          ]
        }
      ]
    },
    {
      "cell_type": "code",
      "source": [
        "lr = LogisticRegression(penalty='l2', C=0.1)\n",
        "lr.fit(X_train_sepal, y_train_sepal)\n",
        "score = lr.score(X_test_sepal, y_test_sepal)\n",
        "print('SK逻辑回归准确率：{:.2f}%'.format(score*100))"
      ],
      "metadata": {
        "colab": {
          "base_uri": "https://localhost:8080/"
        },
        "id": "36w-exDg9qQm",
        "outputId": "aa83d8cb-5a51-41be-9fd1-e31efeb6231f"
      },
      "execution_count": 81,
      "outputs": [
        {
          "output_type": "stream",
          "name": "stdout",
          "text": [
            "SK逻辑回归准确率：68.89%\n"
          ]
        }
      ]
    },
    {
      "cell_type": "code",
      "source": [
        "lr = LogisticRegression(penalty='l2', C=1000)\n",
        "lr.fit(X_train_petal, y_train_petal)\n",
        "score = lr.score(X_test_petal, y_test_petal)\n",
        "print('SK逻辑回归准确率：{:.2f}%'.format(score*100))"
      ],
      "metadata": {
        "colab": {
          "base_uri": "https://localhost:8080/"
        },
        "id": "MfqhhdBx9u3l",
        "outputId": "718576fb-bcca-48cd-b166-a488cb5742cd"
      },
      "execution_count": 83,
      "outputs": [
        {
          "output_type": "stream",
          "name": "stdout",
          "text": [
            "SK逻辑回归准确率：97.78%\n"
          ]
        }
      ]
    },
    {
      "cell_type": "code",
      "source": [
        "lr = LogisticRegression(penalty='l2', C=10000)\n",
        "lr.fit(X_train_petal, y_train_petal)\n",
        "score = lr.score(X_test_petal, y_test_petal)\n",
        "print('SK逻辑回归准确率：{:.2f}%'.format(score*100))"
      ],
      "metadata": {
        "colab": {
          "base_uri": "https://localhost:8080/"
        },
        "id": "GpNjZTFL-iUC",
        "outputId": "7acbfa45-6f5f-4fa9-85f9-09b1704dfdc1"
      },
      "execution_count": 84,
      "outputs": [
        {
          "output_type": "stream",
          "name": "stdout",
          "text": [
            "SK逻辑回归准确率：97.78%\n"
          ]
        }
      ]
    }
  ]
}